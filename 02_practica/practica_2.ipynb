{
 "cells": [
  {
   "cell_type": "markdown",
   "metadata": {},
   "source": [
    "# Practica 2\n",
    "\n",
    "**Objetivo:** A partir del [corpus proporcionado](./../99_corpus/corpusML.txt) realizar un modelo del lenguaje neuronal con base en la arquitectura propuesta por Bengio (2003)."
   ]
  },
  {
   "cell_type": "code",
   "execution_count": 1,
   "metadata": {},
   "outputs": [],
   "source": [
    "from re import sub\n",
    "from unicodedata import normalize\n",
    "from nltk.stem.snowball import SpanishStemmer\n",
    "from sklearn.model_selection import train_test_split\n",
    "from itertools import chain\n",
    "from collections import Counter,defaultdict\n",
    "import numpy as np\n",
    "np.random.seed(0)\n",
    "import matplotlib.pyplot as plt\n",
    "\n",
    "# Definimos funcion de apoyo para imprimir ejemplos de los corpus\n",
    "def ejemplos(msg, collection, n_elements):\n",
    "    print(msg)\n",
    "    for element in collection[:n_elements]:\n",
    "        print(element)"
   ]
  },
  {
   "cell_type": "markdown",
   "metadata": {},
   "source": [
    "## 1. Limpiar los textos y aplicar stemming a las palabras."
   ]
  },
  {
   "cell_type": "code",
   "execution_count": 2,
   "metadata": {},
   "outputs": [],
   "source": [
    "# Abrir el documento\n",
    "document = './../99_corpus/corpusML.txt'\n",
    "text = open(document,'r',encoding='utf-8').read()"
   ]
  },
  {
   "cell_type": "code",
   "execution_count": 3,
   "metadata": {},
   "outputs": [
    {
     "name": "stdout",
     "output_type": "stream",
     "text": [
      "### Lineas de ejemplo ###\n",
      "\n",
      "comencé a trabajar y me pegaron me maltrataron con chicote\n",
      "mis patrones me pegaron porque no me quería apurar porque era flojo\n",
      "por eso me habían pegado\n",
      "cuando me pegaban ya entonces me quitaba\n",
      "pues entonces no quise trabajar\n"
     ]
    }
   ],
   "source": [
    "# Limpiamos el documento\n",
    "text_clean = \"\"\n",
    "lines = []\n",
    "\n",
    "for line in text.split(\"\\n\"):\n",
    "    # Eliminamos caracteres compuestos y pasamos a minusculas\n",
    "    line = normalize('NFKC', line).lower()\n",
    "    # Eliminamos extensiones y numeros\n",
    "    line = sub(r\"\\\\.*|{.*}|\\\\|\\[.*\\]|[!-@[-`{-~]\", ' ', line)\n",
    "    # Eliminamos signos de puntuacion\n",
    "    line = sub(r\"[^\\w]\", \" \", line)\n",
    "    # Eliminamos saltos de linea\n",
    "    line = \" \".join(line.split())\n",
    "    # Si la linea no esta vacia la añadimos al texto limpio\n",
    "    if line:\n",
    "        lines.append(line)\n",
    "        \n",
    "text_clean += \" \".join(lines)\n",
    "text_clean = text_clean.split()\n",
    "\n",
    "ejemplos(\"### Lineas de ejemplo ###\\n\", lines, 5)"
   ]
  },
  {
   "cell_type": "code",
   "execution_count": 4,
   "metadata": {},
   "outputs": [
    {
     "name": "stdout",
     "output_type": "stream",
     "text": [
      "### Lineas de ejemplo ###\n",
      "\n",
      "['comenc', 'a', 'trabaj', 'y', 'me', 'peg', 'me', 'maltrat', 'con', 'chicot']\n",
      "['mis', 'patron', 'me', 'peg', 'porqu', 'no', 'me', 'quer', 'apur', 'porqu', 'era', 'floj']\n",
      "['por', 'eso', 'me', 'hab', 'peg']\n",
      "['cuand', 'me', 'peg', 'ya', 'entonc', 'me', 'quit']\n",
      "['pues', 'entonc', 'no', 'quis', 'trabaj']\n"
     ]
    }
   ],
   "source": [
    "# Aplicamos Stemming a los tokens limpios\n",
    "\n",
    "# Debido a que el corpus se encuentra en español, utilizaremos el stemmer de NLTK para español.\n",
    "stemmer = SpanishStemmer()\n",
    "stems = []\n",
    "for line in lines:\n",
    "    stems.append([stemmer.stem(word) for word in line.split(\" \")])\n",
    "    \n",
    "ejemplos(\"### Lineas de ejemplo ###\\n\", stems, 5)"
   ]
  },
  {
   "cell_type": "code",
   "execution_count": 5,
   "metadata": {
    "scrolled": false
   },
   "outputs": [
    {
     "name": "stdout",
     "output_type": "stream",
     "text": [
      "### Corpus de entrenamiento ###\n",
      "\n",
      "Tamaño del corpus de entrenamiento: 751  lineas\n",
      "\n",
      "Lineas de ejemplo\n",
      "['se', 'le', 'termin', 'de', 'echar']\n",
      "['las', 'odi', 'a', 'las', 'dos', 'a', 'tu', 'mam', 'y', 'a', 'ti']\n",
      "['le', 'dig', 'le', 'vas', 'a', 'met', 'su', 'maicit']\n",
      "['cuand', 'hub', 'sab', 'alla', 'en', 'el', 'centr', 'pues', 'me', 'han', 'mand', 'a', 'fabric', 'piedr']\n",
      "['hast', 'le', 'dir', 'entonc', 'en', 'le', 'dia', 'no', 'te', 'duerm']\n",
      "\n",
      "### Corpus de evaluacion ###\n",
      "\n",
      "Tamaño del corpus de evaluación: 323  lineas\n",
      "\n",
      "Lineas de ejemplo\n",
      "['no', 'quer', 'que', 'vin', 'y', 'que', 'me', 'vier']\n",
      "['pues', 'primer', 'se', 'empiez', 'a', 'troz', 'un', 'molcajet', 'o', 'sea', 'se', 'emparej']\n",
      "['per', 'cuand', 'estas', 'sol', 'los', 'niñ', 'no', 'te', 'entiend']\n",
      "['si', 'no', 'me', 'hub', 'muert']\n",
      "['y', 'pues', 'mi', 'padr', 'ten', 'vac']\n"
     ]
    }
   ],
   "source": [
    "# Separación del corpus en prueba (70%) y evaluación (30%)\n",
    "train_corpus, eval_corpus = train_test_split(stems, test_size=0.3)\n",
    "\n",
    "print(\"### Corpus de entrenamiento ###\")\n",
    "print(\"\\nTamaño del corpus de entrenamiento:\",len(train_corpus), \" lineas\")\n",
    "ejemplos(\"\\nLineas de ejemplo\", train_corpus, 5)\n",
    "\n",
    "print(\"\\n### Corpus de evaluacion ###\")\n",
    "print(\"\\nTamaño del corpus de evaluación:\", len(eval_corpus), \" lineas\")\n",
    "ejemplos(\"\\nLineas de ejemplo\", eval_corpus, 5)"
   ]
  },
  {
   "cell_type": "markdown",
   "metadata": {},
   "source": [
    "## 2. Insertar símbolos de inicio y final de cadena."
   ]
  },
  {
   "cell_type": "code",
   "execution_count": 6,
   "metadata": {},
   "outputs": [],
   "source": [
    "# Definimos los simbolos\n",
    "BOS = '<BOS>'\n",
    "EOS = '<EOS>'\n",
    "UNK = '<UNK>'"
   ]
  },
  {
   "cell_type": "code",
   "execution_count": 7,
   "metadata": {},
   "outputs": [],
   "source": [
    "# Definamos una función para sustituir los hapax, esta funcion recibe un corpus\n",
    "def replace_hapax(corpus):\n",
    "    # Obtenemos las frecuencias de las palabras del corpus\n",
    "    freqs = Counter( chain(*[' '.join(sent).split() for sent in corpus]) )\n",
    "\n",
    "    # Sustituimos los hápax por UNK en las palabras con frecuencia = 1\n",
    "    corpus_unk = []\n",
    "\n",
    "    for line in corpus:\n",
    "        new_line = []\n",
    "        for word in line:\n",
    "            # Si la frecuencia de la palabra = 1, es un hapáx\n",
    "            if freqs[word] == 1:\n",
    "                new_line.append(UNK)\n",
    "            # Si no, añadimos la palabra original\n",
    "            else:\n",
    "                new_line.append(word)\n",
    "        corpus_unk.append(new_line)\n",
    "    return corpus_unk"
   ]
  },
  {
   "cell_type": "code",
   "execution_count": 8,
   "metadata": {},
   "outputs": [
    {
     "name": "stdout",
     "output_type": "stream",
     "text": [
      "### Corpus de entrenamiento ###\n",
      "\n",
      "Tamaño del corpus de entrenamiento: 751  lineas\n",
      "\n",
      "Lineas de ejemplo del corpus de entrenamiento\n",
      "['se', 'le', 'termin', 'de', '<UNK>']\n",
      "['las', '<UNK>', 'a', 'las', 'dos', 'a', 'tu', '<UNK>', 'y', 'a', '<UNK>']\n",
      "['le', 'dig', 'le', 'vas', 'a', 'met', 'su', 'maicit']\n",
      "['cuand', 'hub', 'sab', 'alla', 'en', 'el', 'centr', 'pues', 'me', 'han', 'mand', 'a', 'fabric', 'piedr']\n",
      "['hast', 'le', 'dir', 'entonc', 'en', 'le', 'dia', 'no', 'te', 'duerm']\n",
      "\n",
      "### Corpus de evaluacion ###\n",
      "\n",
      "Tamaño del corpus de evaluación: 323  lineas\n",
      "\n",
      "Lineas de ejemplo del corpus de evaluacion\n",
      "['no', 'quer', 'que', 'vin', 'y', 'que', 'me', '<UNK>']\n",
      "['pues', 'primer', 'se', 'empiez', 'a', 'troz', 'un', 'molcajet', 'o', 'sea', 'se', 'emparej']\n",
      "['per', 'cuand', 'estas', 'sol', 'los', 'niñ', 'no', 'te', 'entiend']\n",
      "['si', 'no', 'me', 'hub', '<UNK>']\n",
      "['y', 'pues', 'mi', 'padr', 'ten', 'vac']\n"
     ]
    }
   ],
   "source": [
    "# Sustituimos los hápax en los corpus\n",
    "\n",
    "train_corpus_unk = []\n",
    "train_corpus_unk = replace_hapax(train_corpus)\n",
    "print(\"### Corpus de entrenamiento ###\")\n",
    "print(\"\\nTamaño del corpus de entrenamiento:\",len(train_corpus_unk), \" lineas\")\n",
    "ejemplos(\"\\nLineas de ejemplo del corpus de entrenamiento\", train_corpus_unk, 5)\n",
    "\n",
    "eval_corpus_unk = []\n",
    "eval_corpus_unk = replace_hapax(eval_corpus)\n",
    "print(\"\\n### Corpus de evaluacion ###\")\n",
    "print(\"\\nTamaño del corpus de evaluación:\", len(eval_corpus_unk), \" lineas\")\n",
    "ejemplos(\"\\nLineas de ejemplo del corpus de evaluacion\", eval_corpus_unk, 5)"
   ]
  },
  {
   "cell_type": "code",
   "execution_count": 9,
   "metadata": {},
   "outputs": [],
   "source": [
    "# Definamos una función para insertar los BOS y EOS\n",
    "def insert_simbols_of_sentence(corpus):\n",
    "    corpus_w_simbols = [ [BOS] + line + [EOS] for line in corpus ]\n",
    "    return corpus_w_simbols"
   ]
  },
  {
   "cell_type": "code",
   "execution_count": 10,
   "metadata": {},
   "outputs": [
    {
     "name": "stdout",
     "output_type": "stream",
     "text": [
      "### Corpus de entrenamiento ###\n",
      "\n",
      "Tamaño del corpus de entrenamiento: 751  lineas\n",
      "\n",
      "Lineas de ejemplo del corpus de entrenamiento\n",
      "['<BOS>', 'se', 'le', 'termin', 'de', '<UNK>', '<EOS>']\n",
      "['<BOS>', 'las', '<UNK>', 'a', 'las', 'dos', 'a', 'tu', '<UNK>', 'y', 'a', '<UNK>', '<EOS>']\n",
      "['<BOS>', 'le', 'dig', 'le', 'vas', 'a', 'met', 'su', 'maicit', '<EOS>']\n",
      "['<BOS>', 'cuand', 'hub', 'sab', 'alla', 'en', 'el', 'centr', 'pues', 'me', 'han', 'mand', 'a', 'fabric', 'piedr', '<EOS>']\n",
      "['<BOS>', 'hast', 'le', 'dir', 'entonc', 'en', 'le', 'dia', 'no', 'te', 'duerm', '<EOS>']\n",
      "\n",
      "### Corpus de evaluacion ###\n",
      "\n",
      "Tamaño del corpus de evaluacion: 323  lineas\n",
      "\n",
      "Lineas de ejemplo del corpus de evaluacion\n",
      "['<BOS>', 'no', 'quer', 'que', 'vin', 'y', 'que', 'me', '<UNK>', '<EOS>']\n",
      "['<BOS>', 'pues', 'primer', 'se', 'empiez', 'a', 'troz', 'un', 'molcajet', 'o', 'sea', 'se', 'emparej', '<EOS>']\n",
      "['<BOS>', 'per', 'cuand', 'estas', 'sol', 'los', 'niñ', 'no', 'te', 'entiend', '<EOS>']\n",
      "['<BOS>', 'si', 'no', 'me', 'hub', '<UNK>', '<EOS>']\n",
      "['<BOS>', 'y', 'pues', 'mi', 'padr', 'ten', 'vac', '<EOS>']\n"
     ]
    }
   ],
   "source": [
    "# Insertamos BOS y EOS\n",
    "train_corpus_w_simbols = []\n",
    "train_corpus_w_simbols = insert_simbols_of_sentence(train_corpus_unk)\n",
    "print(\"### Corpus de entrenamiento ###\")\n",
    "print(\"\\nTamaño del corpus de entrenamiento:\",len(train_corpus_w_simbols), \" lineas\")\n",
    "ejemplos(\"\\nLineas de ejemplo del corpus de entrenamiento\", train_corpus_w_simbols, 5)\n",
    "\n",
    "eval_corpus_w_simbols = []\n",
    "eval_corpus_w_simbols = insert_simbols_of_sentence(eval_corpus_unk)\n",
    "print(\"\\n### Corpus de evaluacion ###\")\n",
    "print(\"\\nTamaño del corpus de evaluacion:\",len(eval_corpus_w_simbols), \" lineas\")\n",
    "ejemplos(\"\\nLineas de ejemplo del corpus de evaluacion\", eval_corpus_w_simbols, 5)"
   ]
  },
  {
   "cell_type": "markdown",
   "metadata": {},
   "source": [
    "## 3. Obtener los bigramas que aparecen en el texto (indexar numéricamente)."
   ]
  },
  {
   "cell_type": "code",
   "execution_count": 11,
   "metadata": {},
   "outputs": [],
   "source": [
    "# Definamos una función para indexar numericamente\n",
    "def corpus2index(corpus):\n",
    "    # Creamos un diccionario para los stems\n",
    "    vocab = defaultdict()\n",
    "    vocab.default_factory = lambda: len(vocab)\n",
    "\n",
    "    # Creamos el corpus con sus indices\n",
    "    corpus_ids = [[vocab[word] for word in line] for line in corpus]\n",
    "    return corpus_ids, vocab"
   ]
  },
  {
   "cell_type": "code",
   "execution_count": 12,
   "metadata": {},
   "outputs": [
    {
     "name": "stdout",
     "output_type": "stream",
     "text": [
      "### Corpus de entrenamiento ###\n",
      "\n",
      "Oraciones en corpus de entrenamiento\n",
      "['<BOS>', 'se', 'le', 'termin', 'de', '<UNK>', '<EOS>']\n",
      "['<BOS>', 'las', '<UNK>', 'a', 'las', 'dos', 'a', 'tu', '<UNK>', 'y', 'a', '<UNK>', '<EOS>']\n",
      "['<BOS>', 'le', 'dig', 'le', 'vas', 'a', 'met', 'su', 'maicit', '<EOS>']\n",
      "['<BOS>', 'cuand', 'hub', 'sab', 'alla', 'en', 'el', 'centr', 'pues', 'me', 'han', 'mand', 'a', 'fabric', 'piedr', '<EOS>']\n",
      "['<BOS>', 'hast', 'le', 'dir', 'entonc', 'en', 'le', 'dia', 'no', 'te', 'duerm', '<EOS>']\n",
      "\n",
      "Indices en corpus de entrenamiento\n",
      "[0, 1, 2, 3, 4, 5, 6]\n",
      "[0, 7, 5, 8, 7, 9, 8, 10, 5, 11, 8, 5, 6]\n",
      "[0, 2, 12, 2, 13, 8, 14, 15, 16, 6]\n",
      "[0, 17, 18, 19, 20, 21, 22, 23, 24, 25, 26, 27, 8, 28, 29, 6]\n",
      "[0, 30, 2, 31, 32, 21, 2, 33, 34, 35, 36, 6]\n",
      "\n",
      "### Corpus de evaluacion ###\n",
      "\n",
      "Oraciones en corpus de evaluacion\n",
      "['<BOS>', 'no', 'quer', 'que', 'vin', 'y', 'que', 'me', '<UNK>', '<EOS>']\n",
      "['<BOS>', 'pues', 'primer', 'se', 'empiez', 'a', 'troz', 'un', 'molcajet', 'o', 'sea', 'se', 'emparej', '<EOS>']\n",
      "['<BOS>', 'per', 'cuand', 'estas', 'sol', 'los', 'niñ', 'no', 'te', 'entiend', '<EOS>']\n",
      "['<BOS>', 'si', 'no', 'me', 'hub', '<UNK>', '<EOS>']\n",
      "['<BOS>', 'y', 'pues', 'mi', 'padr', 'ten', 'vac', '<EOS>']\n",
      "\n",
      "Indices en corpus de evaluacion\n",
      "[0, 1, 2, 3, 4, 5, 3, 6, 7, 8]\n",
      "[0, 9, 10, 11, 12, 13, 14, 15, 16, 17, 18, 11, 19, 8]\n",
      "[0, 20, 21, 22, 23, 24, 25, 1, 26, 27, 8]\n",
      "[0, 28, 1, 6, 29, 7, 8]\n",
      "[0, 5, 9, 30, 31, 32, 33, 8]\n"
     ]
    }
   ],
   "source": [
    "# Indexamos numericamente los stems\n",
    "\n",
    "train_corpus_ids, train_vocab = corpus2index(train_corpus_w_simbols)\n",
    "print(\"### Corpus de entrenamiento ###\")\n",
    "ejemplos(\"\\nOraciones en corpus de entrenamiento\", train_corpus_w_simbols, 5)\n",
    "ejemplos(\"\\nIndices en corpus de entrenamiento\", train_corpus_ids, 5)\n",
    "\n",
    "eval_corpus_ids, eval_vocab = corpus2index(eval_corpus_w_simbols)\n",
    "print(\"\\n### Corpus de evaluacion ###\")\n",
    "ejemplos(\"\\nOraciones en corpus de evaluacion\", eval_corpus_w_simbols, 5)\n",
    "ejemplos(\"\\nIndices en corpus de evaluacion\", eval_corpus_ids, 5)"
   ]
  },
  {
   "cell_type": "code",
   "execution_count": 13,
   "metadata": {},
   "outputs": [],
   "source": [
    "# Definamos una función para crear los bigrama\n",
    "def corpus2bigrams(corpus):\n",
    "    bigrams = list(chain(*[zip(cad,cad[1:]) for cad in corpus]))\n",
    "    return bigrams"
   ]
  },
  {
   "cell_type": "code",
   "execution_count": 14,
   "metadata": {},
   "outputs": [
    {
     "name": "stdout",
     "output_type": "stream",
     "text": [
      "### Corpus de entrenamiento ###\n",
      "\n",
      "Número de bigramas: 6858\n",
      "\n",
      "Ejemplos de bigramas de entrenamiento\n",
      " [(0, 1), (1, 2), (2, 3), (3, 4), (4, 5), (5, 6), (0, 7), (7, 5), (5, 8), (8, 7), (7, 9), (9, 8), (8, 10), (10, 5), (5, 11), (11, 8), (8, 5), (5, 6), (0, 2), (2, 12), (12, 2), (2, 13), (13, 8), (8, 14), (14, 15), (15, 16), (16, 6), (0, 17), (17, 18), (18, 19), (19, 20), (20, 21), (21, 22), (22, 23), (23, 24), (24, 25), (25, 26), (26, 27), (27, 8), (8, 28), (28, 29), (29, 6), (0, 30), (30, 2), (2, 31), (31, 32), (32, 21), (21, 2), (2, 33), (33, 34)]\n",
      "\n",
      "### Corpus de evaluacion ###\n",
      "\n",
      "Número de bigramas: 3014\n",
      "\n",
      "Ejemplos de bigramas de evaluacion\n",
      " [(0, 1), (1, 2), (2, 3), (3, 4), (4, 5), (5, 6), (0, 7), (7, 5), (5, 8), (8, 7), (7, 9), (9, 8), (8, 10), (10, 5), (5, 11), (11, 8), (8, 5), (5, 6), (0, 2), (2, 12), (12, 2), (2, 13), (13, 8), (8, 14), (14, 15), (15, 16), (16, 6), (0, 17), (17, 18), (18, 19), (19, 20), (20, 21), (21, 22), (22, 23), (23, 24), (24, 25), (25, 26), (26, 27), (27, 8), (8, 28), (28, 29), (29, 6), (0, 30), (30, 2), (2, 31), (31, 32), (32, 21), (21, 2), (2, 33), (33, 34)]\n"
     ]
    }
   ],
   "source": [
    "# Obtencion de los bigramas\n",
    "train_bigrams = []\n",
    "train_bigrams = corpus2bigrams(train_corpus_ids)\n",
    "print(\"### Corpus de entrenamiento ###\")\n",
    "print(\"\\nNúmero de bigramas:\", len(train_bigrams))\n",
    "print(\"\\nEjemplos de bigramas de entrenamiento\\n\", train_bigrams[:50])\n",
    "\n",
    "eval_bigrams = []\n",
    "eval_bigrams = corpus2bigrams(eval_corpus_ids)\n",
    "print(\"\\n### Corpus de evaluacion ###\")\n",
    "print(\"\\nNúmero de bigramas:\", len(eval_bigrams))\n",
    "print(\"\\nEjemplos de bigramas de evaluacion\\n\", train_bigrams[:50])"
   ]
  },
  {
   "cell_type": "markdown",
   "metadata": {},
   "source": [
    "## 4. Entrenar con los bigramas la red neuronal y obtener los valores para los hiperparámetros. Tomar de 100 unidades para la primera capa oculta (capa lineal) y 300 para la segunda capa oculta (capa con tanh).`"
   ]
  },
  {
   "cell_type": "code",
   "execution_count": 28,
   "metadata": {},
   "outputs": [],
   "source": [
    "class Bengio:\n",
    "    # Constructor del objeto\n",
    "    def __init__(self, bigrams, T, d, m, n, N):\n",
    "        self.bigrams = bigrams\n",
    "        self.T = T    # Numero de iteraciones\n",
    "        self.d = d    # Dimension de los embeddings\n",
    "        self.m = m    # Numero de unidades en la capa oculta\n",
    "        self.n = n    # Rango de aprendizaje\n",
    "        self.N = N    # Tamaño del vocabulario\n",
    "    \n",
    "    # Inicializamos parametros del modelo\n",
    "    def initialize_params(self):\n",
    "        # Matriz de representacion lineal en la primera capa oculta, C ∈ R^(d×N)\n",
    "        self.C = np.random.random((self.d, self.N))/np.sqrt(self.N)\n",
    "        # Matriz de pesos en la segunda capa oculta, W ∈ R^(m×d)\n",
    "        self.W = np.random.random((self.m, self.d))/np.sqrt(self.d)\n",
    "        # Bias, b ∈ R^m\n",
    "        self.b = np.random.random(self.m)\n",
    "        # Matriz de pesos en la capa de salida, U ∈ R^(N×m)\n",
    "        self.U = np.random.random((self.N, self.m))/np.sqrt(self.m)\n",
    "        # Bias, c ∈ R^m\n",
    "        self.c = np.random.random(self.N)\n",
    "        # Riesgo\n",
    "        self.R = []\n",
    "        self.R_it = 0\n",
    "    \n",
    "    # Definimos los pasos de forward\n",
    "    def forward(self, i_x):\n",
    "        # Capa de embedding\n",
    "        c_i = self.C[:,i_x]\n",
    "        # Capa oculta\n",
    "        h_i = np.tanh(np.dot(self.W, c_i) + self.b)\n",
    "        # Capa de salida (Softmax)\n",
    "        # -> Pre-activacion\n",
    "        a_i = np.dot(self.U, h_i) + self.c\n",
    "        # -> Activacion\n",
    "        e_a = np.exp(a_i - a_i.max())\n",
    "        p_wk_wi = e_a / e_a.sum()\n",
    "        \n",
    "        return (p_wk_wi, h_i)\n",
    "    \n",
    "    # Definimos la funcion de riesgo\n",
    "    def risk(self, p_wk_wi, i_y):\n",
    "        # Entropia cruzada\n",
    "        self.R_it -= np.log(p_wk_wi[i_y].sum())\n",
    "    \n",
    "    # Definimos la funcion para guardar la entropia al final de la iteracion\n",
    "    def saveRisk(self):\n",
    "        self.R.append(self.R_it)\n",
    "    \n",
    "    # Definimios la funcion para obtener el historial de la entropia cruzada\n",
    "    def getRisk(self):\n",
    "        return self.R\n",
    "\n",
    "    # Definimos los pasos de backward (backpropagation)\n",
    "    def backward(self, i_y, p_wk_wi, h_i):\n",
    "        # Capa de salida\n",
    "        d_out = np.array(p_wk_wi, copy=True) \n",
    "        d_out[i_y] -= 1\n",
    "        # Capa oculta\n",
    "        d_h = (1 - (h_i*h_i)) * np.dot(d_out.T, self.U)\n",
    "        # Capa de embedding\n",
    "        d_c = np.dot(d_h.T, self.W)\n",
    "        \n",
    "        return (d_out, d_h, d_c)\n",
    "    \n",
    "    # Definimos la actualización de pesos (gradiente descendente)\n",
    "    def updateWeights(self, d_out, h_i, d_h, d_c, i_x):\n",
    "        # Capa de salida\n",
    "        self.U -= self.n * np.outer(d_out, h_i)\n",
    "        # Capa oculta\n",
    "        self.W -= self.n * np.outer(d_h, self.C[:, i_x])\n",
    "        self.c -= self.n * d_out\n",
    "        #self.c -= self.n * d_h\n",
    "        # Capa de embedding\n",
    "        self.C[:, i_x] -=  self.n * d_c\n",
    "        self.b -= self.n * d_h\n",
    "        #self.b -= self.n * d_c\n",
    "    \n",
    "    # Definimos el entrenamiento\n",
    "    def train(self):\n",
    "        for it in range(0, self.T):\n",
    "            self.R_it = 0\n",
    "            for pair in self.bigrams:\n",
    "                # Separamos el bigrama en la palabra y la clase\n",
    "                i_x = pair[0]\n",
    "                i_y = pair[1]\n",
    "                # Forward\n",
    "                p_wk_wi, h_i = self.forward(i_x)\n",
    "                # Funcion de riesgo\n",
    "                self.risk(p_wk_wi, i_y)\n",
    "                # Backward\n",
    "                d_out, d_h, d_c = self.backward(i_y, p_wk_wi, h_i)\n",
    "                # Actualizacion de pesos\n",
    "                self.updateWeights(d_out, h_i, d_h, d_c, i_x)\n",
    "            # Guardamos el historial de la entropia cruzada\n",
    "            self.saveRisk()\n",
    "            print(\"Epoch: \", it, \"\\tEntropia cruzada: \", self.R_it)\n",
    "        print(\"### Ha terminado el entrenamiento ###\")"
   ]
  },
  {
   "cell_type": "code",
   "execution_count": 29,
   "metadata": {},
   "outputs": [
    {
     "name": "stdout",
     "output_type": "stream",
     "text": [
      "Tamaño del vocabulario:  503\n"
     ]
    }
   ],
   "source": [
    "# Definimos hiperparametros de la red\n",
    "T = 20    # Numero de iteraciones\n",
    "d = 100    # Dimension de los embeddings\n",
    "m = 300    # Numero de unidades en la capa oculta\n",
    "n = 0.1    # Rango de aprendizaje\n",
    "N = len(train_vocab) # Tamaño del vocabulario\n",
    "\n",
    "print(\"Tamaño del vocabulario: \", N)"
   ]
  },
  {
   "cell_type": "code",
   "execution_count": 31,
   "metadata": {
    "scrolled": true
   },
   "outputs": [
    {
     "name": "stdout",
     "output_type": "stream",
     "text": [
      "Epoch:  0 \tEntropia cruzada:  33612.10091542553\n",
      "Epoch:  1 \tEntropia cruzada:  30915.731793982683\n",
      "Epoch:  2 \tEntropia cruzada:  29682.621322058018\n",
      "Epoch:  3 \tEntropia cruzada:  28692.881200951877\n",
      "Epoch:  4 \tEntropia cruzada:  27901.74801299211\n",
      "Epoch:  5 \tEntropia cruzada:  27316.479410648095\n",
      "Epoch:  6 \tEntropia cruzada:  26845.51495728309\n",
      "Epoch:  7 \tEntropia cruzada:  26514.692340932408\n",
      "Epoch:  8 \tEntropia cruzada:  26270.500899125713\n",
      "Epoch:  9 \tEntropia cruzada:  26092.06287240499\n",
      "Epoch:  10 \tEntropia cruzada:  25996.083903343166\n",
      "Epoch:  11 \tEntropia cruzada:  25902.903239686842\n",
      "Epoch:  12 \tEntropia cruzada:  25882.44712891547\n",
      "Epoch:  13 \tEntropia cruzada:  25887.378884792404\n",
      "Epoch:  14 \tEntropia cruzada:  25901.014578045324\n",
      "Epoch:  15 \tEntropia cruzada:  25905.21610404721\n",
      "Epoch:  16 \tEntropia cruzada:  25894.452788284114\n",
      "Epoch:  17 \tEntropia cruzada:  25859.10515646662\n",
      "Epoch:  18 \tEntropia cruzada:  25837.09504636495\n",
      "Epoch:  19 \tEntropia cruzada:  26036.21485307261\n",
      "### Ha terminado el entrenamiento ###\n"
     ]
    }
   ],
   "source": [
    "# Creamos objeto del modelo y lo entrenamos\n",
    "modelo = Bengio(train_bigrams, T, d, m, n, N)\n",
    "modelo.initialize_params()\n",
    "modelo.train()"
   ]
  },
  {
   "cell_type": "code",
   "execution_count": 32,
   "metadata": {},
   "outputs": [
    {
     "data": {
      "image/png": "[encoded data removed]",
      "text/plain": [
       "<Figure size 432x288 with 1 Axes>"
      ]
     },
     "metadata": {
      "needs_background": "light"
     },
     "output_type": "display_data"
    }
   ],
   "source": [
    "# Vemos como fue el desempeño del modelo\n",
    "plt.plot(modelo.getRisk())\n",
    "plt.show()"
   ]
  },
  {
   "cell_type": "markdown",
   "metadata": {},
   "source": [
    "## 5. Obtener las matrices A y Π a partir de las salidas de la red neuronal (probabilidad Softmax)."
   ]
  },
  {
   "cell_type": "code",
   "execution_count": 34,
   "metadata": {},
   "outputs": [],
   "source": [
    "# Modelo de lenguaje μ = (Σ,A,Π), \n",
    "# Σ es un conjunto de símbolos o vocabulario\n",
    "# A = (ai j) = p(wj|wi) son las probabilidades de transicion de los bigramas\n",
    "# Π = (πi) = p(wi) son las probabilidades iniciales.\n",
    "\n",
    "#Numero de tipos sin contar las etiqeutas BOS y EOS\n",
    "n_tipos = len(train_corpus_ids)-2\n",
    "\n",
    "#La matriz A es de NxN+1, los renglones consideran EOS\n",
    "A = np.zeros((n_tipos,n_tipos+1))\n",
    "\n",
    "#Pi es del tamaño de los tipos\n",
    "Pi = np.zeros(N)"
   ]
  },
  {
   "cell_type": "markdown",
   "metadata": {},
   "source": [
    "## 6. Evaluar el modelo (con Entropía)."
   ]
  },
  {
   "cell_type": "code",
   "execution_count": null,
   "metadata": {},
   "outputs": [],
   "source": []
  },
  {
   "cell_type": "markdown",
   "metadata": {},
   "source": [
    "## 7. Calcular la probabilidad de las siguientes oraciones:\n",
    "   - Nos bañamos con agua caliente\n",
    "   - El animalito le olía la cabeza\n",
    "   - Pascuala ordeñaba las vacas"
   ]
  }
 ],
 "metadata": {
  "kernelspec": {
   "display_name": "Python 3",
   "language": "python",
   "name": "python3"
  },
  "language_info": {
   "codemirror_mode": {
    "name": "ipython",
    "version": 3
   },
   "file_extension": ".py",
   "mimetype": "text/x-python",
   "name": "python",
   "nbconvert_exporter": "python",
   "pygments_lexer": "ipython3",
   "version": "3.7.4"
  }
 },
 "nbformat": 4,
 "nbformat_minor": 2
}
