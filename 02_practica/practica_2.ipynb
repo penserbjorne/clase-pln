{
 "cells": [
  {
   "cell_type": "markdown",
   "metadata": {},
   "source": [
    "# Practica 2\n",
    "\n",
    "**Objetivo:** A partir del [corpus proporcionado](./../99_corpus/corpusML.txt) realizar un modelo del lenguaje neuronal con base en la arquitectura propuesta por Bengio (2003)."
   ]
  },
  {
   "cell_type": "code",
   "execution_count": 69,
   "metadata": {},
   "outputs": [],
   "source": [
    "from re import sub\n",
    "from unicodedata import normalize\n",
    "from nltk.stem.snowball import SpanishStemmer\n",
    "from sklearn.model_selection import train_test_split\n",
    "from itertools import chain\n",
    "from collections import Counter,defaultdict\n",
    "import numpy as np\n",
    "np.random.seed(0)\n",
    "import matplotlib.pyplot as plt\n",
    "import pandas as pd\n",
    "\n",
    "# Definimos funcion de apoyo para imprimir ejemplos de los corpus\n",
    "def ejemplos(msg, collection, n_elements):\n",
    "    print(msg)\n",
    "    for element in collection[:n_elements]:\n",
    "        print(element)"
   ]
  },
  {
   "cell_type": "markdown",
   "metadata": {},
   "source": [
    "## 1. Limpiar los textos y aplicar stemming a las palabras."
   ]
  },
  {
   "cell_type": "code",
   "execution_count": 2,
   "metadata": {},
   "outputs": [],
   "source": [
    "# Abrir el documento\n",
    "document = './../99_corpus/corpusML.txt'\n",
    "text = open(document,'r',encoding='utf-8').read()"
   ]
  },
  {
   "cell_type": "code",
   "execution_count": 3,
   "metadata": {},
   "outputs": [
    {
     "name": "stdout",
     "output_type": "stream",
     "text": [
      "### Lineas de ejemplo ###\n",
      "\n",
      "comencé a trabajar y me pegaron me maltrataron con chicote\n",
      "mis patrones me pegaron porque no me quería apurar porque era flojo\n",
      "por eso me habían pegado\n",
      "cuando me pegaban ya entonces me quitaba\n",
      "pues entonces no quise trabajar\n"
     ]
    }
   ],
   "source": [
    "# Limpiamos el documento\n",
    "text_clean = \"\"\n",
    "lines = []\n",
    "\n",
    "for line in text.split(\"\\n\"):\n",
    "    # Eliminamos caracteres compuestos y pasamos a minusculas\n",
    "    line = normalize('NFKC', line).lower()\n",
    "    # Eliminamos extensiones y numeros\n",
    "    line = sub(r\"\\\\.*|{.*}|\\\\|\\[.*\\]|[!-@[-`{-~]\", ' ', line)\n",
    "    # Eliminamos signos de puntuacion\n",
    "    line = sub(r\"[^\\w]\", \" \", line)\n",
    "    # Eliminamos saltos de linea\n",
    "    line = \" \".join(line.split())\n",
    "    # Si la linea no esta vacia la añadimos al texto limpio\n",
    "    if line:\n",
    "        lines.append(line)\n",
    "        \n",
    "text_clean += \" \".join(lines)\n",
    "text_clean = text_clean.split()\n",
    "\n",
    "ejemplos(\"### Lineas de ejemplo ###\\n\", lines, 5)"
   ]
  },
  {
   "cell_type": "code",
   "execution_count": 4,
   "metadata": {},
   "outputs": [
    {
     "name": "stdout",
     "output_type": "stream",
     "text": [
      "### Lineas de ejemplo ###\n",
      "\n",
      "['comenc', 'a', 'trabaj', 'y', 'me', 'peg', 'me', 'maltrat', 'con', 'chicot']\n",
      "['mis', 'patron', 'me', 'peg', 'porqu', 'no', 'me', 'quer', 'apur', 'porqu', 'era', 'floj']\n",
      "['por', 'eso', 'me', 'hab', 'peg']\n",
      "['cuand', 'me', 'peg', 'ya', 'entonc', 'me', 'quit']\n",
      "['pues', 'entonc', 'no', 'quis', 'trabaj']\n"
     ]
    }
   ],
   "source": [
    "# Aplicamos Stemming a los tokens limpios\n",
    "\n",
    "# Debido a que el corpus se encuentra en español, utilizaremos el stemmer de NLTK para español.\n",
    "stemmer = SpanishStemmer()\n",
    "stems = []\n",
    "for line in lines:\n",
    "    stems.append([stemmer.stem(word) for word in line.split(\" \")])\n",
    "    \n",
    "ejemplos(\"### Lineas de ejemplo ###\\n\", stems, 5)"
   ]
  },
  {
   "cell_type": "code",
   "execution_count": 5,
   "metadata": {
    "scrolled": false
   },
   "outputs": [
    {
     "name": "stdout",
     "output_type": "stream",
     "text": [
      "### Corpus de entrenamiento ###\n",
      "\n",
      "Tamaño del corpus de entrenamiento: 751  lineas\n",
      "\n",
      "Lineas de ejemplo\n",
      "['se', 'le', 'termin', 'de', 'echar']\n",
      "['las', 'odi', 'a', 'las', 'dos', 'a', 'tu', 'mam', 'y', 'a', 'ti']\n",
      "['le', 'dig', 'le', 'vas', 'a', 'met', 'su', 'maicit']\n",
      "['cuand', 'hub', 'sab', 'alla', 'en', 'el', 'centr', 'pues', 'me', 'han', 'mand', 'a', 'fabric', 'piedr']\n",
      "['hast', 'le', 'dir', 'entonc', 'en', 'le', 'dia', 'no', 'te', 'duerm']\n",
      "\n",
      "### Corpus de evaluacion ###\n",
      "\n",
      "Tamaño del corpus de evaluación: 323  lineas\n",
      "\n",
      "Lineas de ejemplo\n",
      "['no', 'quer', 'que', 'vin', 'y', 'que', 'me', 'vier']\n",
      "['pues', 'primer', 'se', 'empiez', 'a', 'troz', 'un', 'molcajet', 'o', 'sea', 'se', 'emparej']\n",
      "['per', 'cuand', 'estas', 'sol', 'los', 'niñ', 'no', 'te', 'entiend']\n",
      "['si', 'no', 'me', 'hub', 'muert']\n",
      "['y', 'pues', 'mi', 'padr', 'ten', 'vac']\n"
     ]
    }
   ],
   "source": [
    "# Separación del corpus en prueba (70%) y evaluación (30%)\n",
    "train_corpus, eval_corpus = train_test_split(stems, test_size=0.3)\n",
    "\n",
    "print(\"### Corpus de entrenamiento ###\")\n",
    "print(\"\\nTamaño del corpus de entrenamiento:\",len(train_corpus), \" lineas\")\n",
    "ejemplos(\"\\nLineas de ejemplo\", train_corpus, 5)\n",
    "\n",
    "print(\"\\n### Corpus de evaluacion ###\")\n",
    "print(\"\\nTamaño del corpus de evaluación:\", len(eval_corpus), \" lineas\")\n",
    "ejemplos(\"\\nLineas de ejemplo\", eval_corpus, 5)"
   ]
  },
  {
   "cell_type": "markdown",
   "metadata": {},
   "source": [
    "## 2. Insertar símbolos de inicio y final de cadena."
   ]
  },
  {
   "cell_type": "code",
   "execution_count": 6,
   "metadata": {},
   "outputs": [],
   "source": [
    "# Definimos los simbolos\n",
    "BOS = '<BOS>'\n",
    "EOS = '<EOS>'\n",
    "UNK = '<UNK>'"
   ]
  },
  {
   "cell_type": "code",
   "execution_count": 7,
   "metadata": {},
   "outputs": [],
   "source": [
    "# Definamos una función para sustituir los hapax, esta funcion recibe un corpus\n",
    "def replace_hapax(corpus):\n",
    "    # Obtenemos las frecuencias de las palabras del corpus\n",
    "    freqs = Counter( chain(*[' '.join(sent).split() for sent in corpus]) )\n",
    "\n",
    "    # Sustituimos los hápax por UNK en las palabras con frecuencia = 1\n",
    "    corpus_unk = []\n",
    "\n",
    "    for line in corpus:\n",
    "        new_line = []\n",
    "        for word in line:\n",
    "            # Si la frecuencia de la palabra = 1, es un hapáx\n",
    "            if freqs[word] == 1:\n",
    "                new_line.append(UNK)\n",
    "            # Si no, añadimos la palabra original\n",
    "            else:\n",
    "                new_line.append(word)\n",
    "        corpus_unk.append(new_line)\n",
    "    return corpus_unk"
   ]
  },
  {
   "cell_type": "code",
   "execution_count": 8,
   "metadata": {},
   "outputs": [
    {
     "name": "stdout",
     "output_type": "stream",
     "text": [
      "### Corpus de entrenamiento ###\n",
      "\n",
      "Tamaño del corpus de entrenamiento: 751  lineas\n",
      "\n",
      "Lineas de ejemplo del corpus de entrenamiento\n",
      "['se', 'le', 'termin', 'de', '<UNK>']\n",
      "['las', '<UNK>', 'a', 'las', 'dos', 'a', 'tu', '<UNK>', 'y', 'a', '<UNK>']\n",
      "['le', 'dig', 'le', 'vas', 'a', 'met', 'su', 'maicit']\n",
      "['cuand', 'hub', 'sab', 'alla', 'en', 'el', 'centr', 'pues', 'me', 'han', 'mand', 'a', 'fabric', 'piedr']\n",
      "['hast', 'le', 'dir', 'entonc', 'en', 'le', 'dia', 'no', 'te', 'duerm']\n",
      "\n",
      "### Corpus de evaluacion ###\n",
      "\n",
      "Tamaño del corpus de evaluación: 323  lineas\n",
      "\n",
      "Lineas de ejemplo del corpus de evaluacion\n",
      "['no', 'quer', 'que', 'vin', 'y', 'que', 'me', '<UNK>']\n",
      "['pues', 'primer', 'se', 'empiez', 'a', 'troz', 'un', 'molcajet', 'o', 'sea', 'se', 'emparej']\n",
      "['per', 'cuand', 'estas', 'sol', 'los', 'niñ', 'no', 'te', 'entiend']\n",
      "['si', 'no', 'me', 'hub', '<UNK>']\n",
      "['y', 'pues', 'mi', 'padr', 'ten', 'vac']\n"
     ]
    }
   ],
   "source": [
    "# Sustituimos los hápax en los corpus\n",
    "\n",
    "train_corpus_unk = []\n",
    "train_corpus_unk = replace_hapax(train_corpus)\n",
    "print(\"### Corpus de entrenamiento ###\")\n",
    "print(\"\\nTamaño del corpus de entrenamiento:\",len(train_corpus_unk), \" lineas\")\n",
    "ejemplos(\"\\nLineas de ejemplo del corpus de entrenamiento\", train_corpus_unk, 5)\n",
    "\n",
    "eval_corpus_unk = []\n",
    "eval_corpus_unk = replace_hapax(eval_corpus)\n",
    "print(\"\\n### Corpus de evaluacion ###\")\n",
    "print(\"\\nTamaño del corpus de evaluación:\", len(eval_corpus_unk), \" lineas\")\n",
    "ejemplos(\"\\nLineas de ejemplo del corpus de evaluacion\", eval_corpus_unk, 5)"
   ]
  },
  {
   "cell_type": "code",
   "execution_count": 9,
   "metadata": {},
   "outputs": [],
   "source": [
    "# Definamos una función para insertar los BOS y EOS\n",
    "def insert_simbols_of_sentence(corpus):\n",
    "    corpus_w_simbols = [ [BOS] + line + [EOS] for line in corpus ]\n",
    "    return corpus_w_simbols"
   ]
  },
  {
   "cell_type": "code",
   "execution_count": 10,
   "metadata": {},
   "outputs": [
    {
     "name": "stdout",
     "output_type": "stream",
     "text": [
      "### Corpus de entrenamiento ###\n",
      "\n",
      "Tamaño del corpus de entrenamiento: 751  lineas\n",
      "\n",
      "Lineas de ejemplo del corpus de entrenamiento\n",
      "['<BOS>', 'se', 'le', 'termin', 'de', '<UNK>', '<EOS>']\n",
      "['<BOS>', 'las', '<UNK>', 'a', 'las', 'dos', 'a', 'tu', '<UNK>', 'y', 'a', '<UNK>', '<EOS>']\n",
      "['<BOS>', 'le', 'dig', 'le', 'vas', 'a', 'met', 'su', 'maicit', '<EOS>']\n",
      "['<BOS>', 'cuand', 'hub', 'sab', 'alla', 'en', 'el', 'centr', 'pues', 'me', 'han', 'mand', 'a', 'fabric', 'piedr', '<EOS>']\n",
      "['<BOS>', 'hast', 'le', 'dir', 'entonc', 'en', 'le', 'dia', 'no', 'te', 'duerm', '<EOS>']\n",
      "\n",
      "### Corpus de evaluacion ###\n",
      "\n",
      "Tamaño del corpus de evaluacion: 323  lineas\n",
      "\n",
      "Lineas de ejemplo del corpus de evaluacion\n",
      "['<BOS>', 'no', 'quer', 'que', 'vin', 'y', 'que', 'me', '<UNK>', '<EOS>']\n",
      "['<BOS>', 'pues', 'primer', 'se', 'empiez', 'a', 'troz', 'un', 'molcajet', 'o', 'sea', 'se', 'emparej', '<EOS>']\n",
      "['<BOS>', 'per', 'cuand', 'estas', 'sol', 'los', 'niñ', 'no', 'te', 'entiend', '<EOS>']\n",
      "['<BOS>', 'si', 'no', 'me', 'hub', '<UNK>', '<EOS>']\n",
      "['<BOS>', 'y', 'pues', 'mi', 'padr', 'ten', 'vac', '<EOS>']\n"
     ]
    }
   ],
   "source": [
    "# Insertamos BOS y EOS\n",
    "train_corpus_w_simbols = []\n",
    "train_corpus_w_simbols = insert_simbols_of_sentence(train_corpus_unk)\n",
    "print(\"### Corpus de entrenamiento ###\")\n",
    "print(\"\\nTamaño del corpus de entrenamiento:\",len(train_corpus_w_simbols), \" lineas\")\n",
    "ejemplos(\"\\nLineas de ejemplo del corpus de entrenamiento\", train_corpus_w_simbols, 5)\n",
    "\n",
    "eval_corpus_w_simbols = []\n",
    "eval_corpus_w_simbols = insert_simbols_of_sentence(eval_corpus_unk)\n",
    "print(\"\\n### Corpus de evaluacion ###\")\n",
    "print(\"\\nTamaño del corpus de evaluacion:\",len(eval_corpus_w_simbols), \" lineas\")\n",
    "ejemplos(\"\\nLineas de ejemplo del corpus de evaluacion\", eval_corpus_w_simbols, 5)"
   ]
  },
  {
   "cell_type": "markdown",
   "metadata": {},
   "source": [
    "## 3. Obtener los bigramas que aparecen en el texto (indexar numéricamente)."
   ]
  },
  {
   "cell_type": "code",
   "execution_count": 36,
   "metadata": {},
   "outputs": [],
   "source": [
    "# Definamos una función para indexar numericamente\n",
    "def corpus2index(corpus):\n",
    "    # Creamos un diccionario para los stems\n",
    "    vocab = defaultdict()\n",
    "    vocab.default_factory = lambda: len(vocab)\n",
    "\n",
    "    # Creamos el corpus con sus indices\n",
    "    corpus_ids = [[vocab[word] for word in line] for line in corpus]\n",
    "    return corpus_ids, vocab\n",
    "\n",
    "# Definamos una funcion para obtener el diccionario de indice:palabra\n",
    "def dicKeyWord(vocab):\n",
    "    return { idx: w for w,idx in vocab.items()}"
   ]
  },
  {
   "cell_type": "code",
   "execution_count": 40,
   "metadata": {},
   "outputs": [
    {
     "name": "stdout",
     "output_type": "stream",
     "text": [
      "### Corpus de entrenamiento ###\n",
      "\n",
      "Oraciones en corpus de entrenamiento\n",
      "['<BOS>', 'se', 'le', 'termin', 'de', '<UNK>', '<EOS>']\n",
      "['<BOS>', 'las', '<UNK>', 'a', 'las', 'dos', 'a', 'tu', '<UNK>', 'y', 'a', '<UNK>', '<EOS>']\n",
      "['<BOS>', 'le', 'dig', 'le', 'vas', 'a', 'met', 'su', 'maicit', '<EOS>']\n",
      "['<BOS>', 'cuand', 'hub', 'sab', 'alla', 'en', 'el', 'centr', 'pues', 'me', 'han', 'mand', 'a', 'fabric', 'piedr', '<EOS>']\n",
      "['<BOS>', 'hast', 'le', 'dir', 'entonc', 'en', 'le', 'dia', 'no', 'te', 'duerm', '<EOS>']\n",
      "\n",
      "Indices en corpus de entrenamiento\n",
      "[0, 1, 2, 3, 4, 5, 6]\n",
      "[0, 7, 5, 8, 7, 9, 8, 10, 5, 11, 8, 5, 6]\n",
      "[0, 2, 12, 2, 13, 8, 14, 15, 16, 6]\n",
      "[0, 17, 18, 19, 20, 21, 22, 23, 24, 25, 26, 27, 8, 28, 29, 6]\n",
      "[0, 30, 2, 31, 32, 21, 2, 33, 34, 35, 36, 6]\n",
      "\n",
      "### Corpus de evaluacion ###\n",
      "\n",
      "Oraciones en corpus de evaluacion\n",
      "['<BOS>', 'no', 'quer', 'que', 'vin', 'y', 'que', 'me', '<UNK>', '<EOS>']\n",
      "['<BOS>', 'pues', 'primer', 'se', 'empiez', 'a', 'troz', 'un', 'molcajet', 'o', 'sea', 'se', 'emparej', '<EOS>']\n",
      "['<BOS>', 'per', 'cuand', 'estas', 'sol', 'los', 'niñ', 'no', 'te', 'entiend', '<EOS>']\n",
      "['<BOS>', 'si', 'no', 'me', 'hub', '<UNK>', '<EOS>']\n",
      "['<BOS>', 'y', 'pues', 'mi', 'padr', 'ten', 'vac', '<EOS>']\n",
      "\n",
      "Indices en corpus de evaluacion\n",
      "[0, 1, 2, 3, 4, 5, 3, 6, 7, 8]\n",
      "[0, 9, 10, 11, 12, 13, 14, 15, 16, 17, 18, 11, 19, 8]\n",
      "[0, 20, 21, 22, 23, 24, 25, 1, 26, 27, 8]\n",
      "[0, 28, 1, 6, 29, 7, 8]\n",
      "[0, 5, 9, 30, 31, 32, 33, 8]\n"
     ]
    }
   ],
   "source": [
    "# Indexamos numericamente los stems\n",
    "\n",
    "train_corpus_ids, train_vocab = corpus2index(train_corpus_w_simbols)\n",
    "print(\"### Corpus de entrenamiento ###\")\n",
    "ejemplos(\"\\nOraciones en corpus de entrenamiento\", train_corpus_w_simbols, 5)\n",
    "ejemplos(\"\\nIndices en corpus de entrenamiento\", train_corpus_ids, 5)\n",
    "\n",
    "eval_corpus_ids, eval_vocab = corpus2index(eval_corpus_w_simbols)\n",
    "print(\"\\n### Corpus de evaluacion ###\")\n",
    "ejemplos(\"\\nOraciones en corpus de evaluacion\", eval_corpus_w_simbols, 5)\n",
    "ejemplos(\"\\nIndices en corpus de evaluacion\", eval_corpus_ids, 5)\n",
    "\n",
    "# Creamos los diccionarios key:word para recuperar posteriormente\n",
    "dic_train = dicKeyWord(train_vocab)\n",
    "dic_eval = dicKeyWord(eval_vocab)"
   ]
  },
  {
   "cell_type": "code",
   "execution_count": 13,
   "metadata": {},
   "outputs": [],
   "source": [
    "# Definamos una función para crear los bigrama\n",
    "def corpus2bigrams(corpus):\n",
    "    bigrams = list(chain(*[zip(cad,cad[1:]) for cad in corpus]))\n",
    "    return bigrams"
   ]
  },
  {
   "cell_type": "code",
   "execution_count": 14,
   "metadata": {},
   "outputs": [
    {
     "name": "stdout",
     "output_type": "stream",
     "text": [
      "### Corpus de entrenamiento ###\n",
      "\n",
      "Número de bigramas: 6858\n",
      "\n",
      "Ejemplos de bigramas de entrenamiento\n",
      " [(0, 1), (1, 2), (2, 3), (3, 4), (4, 5), (5, 6), (0, 7), (7, 5), (5, 8), (8, 7), (7, 9), (9, 8), (8, 10), (10, 5), (5, 11), (11, 8), (8, 5), (5, 6), (0, 2), (2, 12), (12, 2), (2, 13), (13, 8), (8, 14), (14, 15), (15, 16), (16, 6), (0, 17), (17, 18), (18, 19), (19, 20), (20, 21), (21, 22), (22, 23), (23, 24), (24, 25), (25, 26), (26, 27), (27, 8), (8, 28), (28, 29), (29, 6), (0, 30), (30, 2), (2, 31), (31, 32), (32, 21), (21, 2), (2, 33), (33, 34)]\n",
      "\n",
      "### Corpus de evaluacion ###\n",
      "\n",
      "Número de bigramas: 3014\n",
      "\n",
      "Ejemplos de bigramas de evaluacion\n",
      " [(0, 1), (1, 2), (2, 3), (3, 4), (4, 5), (5, 6), (0, 7), (7, 5), (5, 8), (8, 7), (7, 9), (9, 8), (8, 10), (10, 5), (5, 11), (11, 8), (8, 5), (5, 6), (0, 2), (2, 12), (12, 2), (2, 13), (13, 8), (8, 14), (14, 15), (15, 16), (16, 6), (0, 17), (17, 18), (18, 19), (19, 20), (20, 21), (21, 22), (22, 23), (23, 24), (24, 25), (25, 26), (26, 27), (27, 8), (8, 28), (28, 29), (29, 6), (0, 30), (30, 2), (2, 31), (31, 32), (32, 21), (21, 2), (2, 33), (33, 34)]\n"
     ]
    }
   ],
   "source": [
    "# Obtencion de los bigramas\n",
    "train_bigrams = []\n",
    "train_bigrams = corpus2bigrams(train_corpus_ids)\n",
    "print(\"### Corpus de entrenamiento ###\")\n",
    "print(\"\\nNúmero de bigramas:\", len(train_bigrams))\n",
    "print(\"\\nEjemplos de bigramas de entrenamiento\\n\", train_bigrams[:50])\n",
    "\n",
    "eval_bigrams = []\n",
    "eval_bigrams = corpus2bigrams(eval_corpus_ids)\n",
    "print(\"\\n### Corpus de evaluacion ###\")\n",
    "print(\"\\nNúmero de bigramas:\", len(eval_bigrams))\n",
    "print(\"\\nEjemplos de bigramas de evaluacion\\n\", train_bigrams[:50])"
   ]
  },
  {
   "cell_type": "markdown",
   "metadata": {},
   "source": [
    "## 4. Entrenar con los bigramas la red neuronal y obtener los valores para los hiperparámetros. Tomar de 100 unidades para la primera capa oculta (capa lineal) y 300 para la segunda capa oculta (capa con tanh).`"
   ]
  },
  {
   "cell_type": "code",
   "execution_count": 28,
   "metadata": {},
   "outputs": [],
   "source": [
    "class Bengio:\n",
    "    # Constructor del objeto\n",
    "    def __init__(self, bigrams, T, d, m, n, N):\n",
    "        self.bigrams = bigrams\n",
    "        self.T = T    # Numero de iteraciones\n",
    "        self.d = d    # Dimension de los embeddings\n",
    "        self.m = m    # Numero de unidades en la capa oculta\n",
    "        self.n = n    # Rango de aprendizaje\n",
    "        self.N = N    # Tamaño del vocabulario\n",
    "    \n",
    "    # Inicializamos parametros del modelo\n",
    "    def initialize_params(self):\n",
    "        # Matriz de representacion lineal en la primera capa oculta, C ∈ R^(d×N)\n",
    "        self.C = np.random.random((self.d, self.N))/np.sqrt(self.N)\n",
    "        # Matriz de pesos en la segunda capa oculta, W ∈ R^(m×d)\n",
    "        self.W = np.random.random((self.m, self.d))/np.sqrt(self.d)\n",
    "        # Bias, b ∈ R^m\n",
    "        self.b = np.random.random(self.m)\n",
    "        # Matriz de pesos en la capa de salida, U ∈ R^(N×m)\n",
    "        self.U = np.random.random((self.N, self.m))/np.sqrt(self.m)\n",
    "        # Bias, c ∈ R^m\n",
    "        self.c = np.random.random(self.N)\n",
    "        # Riesgo\n",
    "        self.R = []\n",
    "        self.R_it = 0\n",
    "    \n",
    "    # Definimos los pasos de forward\n",
    "    def forward(self, i_x):\n",
    "        # Capa de embedding\n",
    "        c_i = self.C[:,i_x]\n",
    "        # Capa oculta\n",
    "        h_i = np.tanh(np.dot(self.W, c_i) + self.b)\n",
    "        # Capa de salida (Softmax)\n",
    "        # -> Pre-activacion\n",
    "        a_i = np.dot(self.U, h_i) + self.c\n",
    "        # -> Activacion\n",
    "        e_a = np.exp(a_i - a_i.max())\n",
    "        p_wk_wi = e_a / e_a.sum()\n",
    "        \n",
    "        return (p_wk_wi, h_i)\n",
    "    \n",
    "    # Definimos la funcion de riesgo\n",
    "    def risk(self, p_wk_wi, i_y):\n",
    "        # Entropia cruzada\n",
    "        self.R_it -= np.log(p_wk_wi[i_y].sum())\n",
    "    \n",
    "    # Definimos la funcion para guardar la entropia al final de la iteracion\n",
    "    def saveRisk(self):\n",
    "        self.R.append(self.R_it)\n",
    "    \n",
    "    # Definimios la funcion para obtener el historial de la entropia cruzada\n",
    "    def getRisk(self):\n",
    "        return self.R\n",
    "\n",
    "    # Definimos los pasos de backward (backpropagation)\n",
    "    def backward(self, i_y, p_wk_wi, h_i):\n",
    "        # Capa de salida\n",
    "        d_out = np.array(p_wk_wi, copy=True) \n",
    "        d_out[i_y] -= 1\n",
    "        # Capa oculta\n",
    "        d_h = (1 - (h_i*h_i)) * np.dot(d_out.T, self.U)\n",
    "        # Capa de embedding\n",
    "        d_c = np.dot(d_h.T, self.W)\n",
    "        \n",
    "        return (d_out, d_h, d_c)\n",
    "    \n",
    "    # Definimos la actualización de pesos (gradiente descendente)\n",
    "    def updateWeights(self, d_out, h_i, d_h, d_c, i_x):\n",
    "        # Capa de salida\n",
    "        self.U -= self.n * np.outer(d_out, h_i)\n",
    "        # Capa oculta\n",
    "        self.W -= self.n * np.outer(d_h, self.C[:, i_x])\n",
    "        self.c -= self.n * d_out\n",
    "        #self.c -= self.n * d_h\n",
    "        # Capa de embedding\n",
    "        self.C[:, i_x] -=  self.n * d_c\n",
    "        self.b -= self.n * d_h\n",
    "        #self.b -= self.n * d_c\n",
    "    \n",
    "    # Definimos el entrenamiento\n",
    "    def train(self):\n",
    "        for it in range(0, self.T):\n",
    "            self.R_it = 0\n",
    "            for pair in self.bigrams:\n",
    "                # Separamos el bigrama en la palabra y la clase\n",
    "                i_x = pair[0]\n",
    "                i_y = pair[1]\n",
    "                # Forward\n",
    "                p_wk_wi, h_i = self.forward(i_x)\n",
    "                # Funcion de riesgo\n",
    "                self.risk(p_wk_wi, i_y)\n",
    "                # Backward\n",
    "                d_out, d_h, d_c = self.backward(i_y, p_wk_wi, h_i)\n",
    "                # Actualizacion de pesos\n",
    "                self.updateWeights(d_out, h_i, d_h, d_c, i_x)\n",
    "            # Guardamos el historial de la entropia cruzada\n",
    "            self.saveRisk()\n",
    "            print(\"Epoch: \", it, \"\\tEntropia cruzada: \", self.R_it)\n",
    "        print(\"### Ha terminado el entrenamiento ###\")\n",
    "    \n",
    "    # Definimos funcion para la siguiente palabra\n",
    "    def predecir(self, i_x):\n",
    "        return np.argmax(self.forward(i_x)[0])"
   ]
  },
  {
   "cell_type": "code",
   "execution_count": 29,
   "metadata": {},
   "outputs": [
    {
     "name": "stdout",
     "output_type": "stream",
     "text": [
      "Tamaño del vocabulario:  503\n"
     ]
    }
   ],
   "source": [
    "# Definimos hiperparametros de la red\n",
    "T = 20    # Numero de iteraciones\n",
    "d = 100    # Dimension de los embeddings\n",
    "m = 300    # Numero de unidades en la capa oculta\n",
    "n = 0.1    # Rango de aprendizaje\n",
    "N = len(train_vocab) # Tamaño del vocabulario\n",
    "\n",
    "print(\"Tamaño del vocabulario: \", N)"
   ]
  },
  {
   "cell_type": "code",
   "execution_count": 31,
   "metadata": {
    "scrolled": true
   },
   "outputs": [
    {
     "name": "stdout",
     "output_type": "stream",
     "text": [
      "Epoch:  0 \tEntropia cruzada:  33612.10091542553\n",
      "Epoch:  1 \tEntropia cruzada:  30915.731793982683\n",
      "Epoch:  2 \tEntropia cruzada:  29682.621322058018\n",
      "Epoch:  3 \tEntropia cruzada:  28692.881200951877\n",
      "Epoch:  4 \tEntropia cruzada:  27901.74801299211\n",
      "Epoch:  5 \tEntropia cruzada:  27316.479410648095\n",
      "Epoch:  6 \tEntropia cruzada:  26845.51495728309\n",
      "Epoch:  7 \tEntropia cruzada:  26514.692340932408\n",
      "Epoch:  8 \tEntropia cruzada:  26270.500899125713\n",
      "Epoch:  9 \tEntropia cruzada:  26092.06287240499\n",
      "Epoch:  10 \tEntropia cruzada:  25996.083903343166\n",
      "Epoch:  11 \tEntropia cruzada:  25902.903239686842\n",
      "Epoch:  12 \tEntropia cruzada:  25882.44712891547\n",
      "Epoch:  13 \tEntropia cruzada:  25887.378884792404\n",
      "Epoch:  14 \tEntropia cruzada:  25901.014578045324\n",
      "Epoch:  15 \tEntropia cruzada:  25905.21610404721\n",
      "Epoch:  16 \tEntropia cruzada:  25894.452788284114\n",
      "Epoch:  17 \tEntropia cruzada:  25859.10515646662\n",
      "Epoch:  18 \tEntropia cruzada:  25837.09504636495\n",
      "Epoch:  19 \tEntropia cruzada:  26036.21485307261\n",
      "### Ha terminado el entrenamiento ###\n"
     ]
    }
   ],
   "source": [
    "# Creamos objeto del modelo y lo entrenamos\n",
    "modelo = Bengio(train_bigrams, T, d, m, n, N)\n",
    "modelo.initialize_params()\n",
    "modelo.train()"
   ]
  },
  {
   "cell_type": "code",
   "execution_count": 115,
   "metadata": {},
   "outputs": [
    {
     "data": {
      "image/png": "[encoded data removed]",
      "text/plain": [
       "<Figure size 432x288 with 1 Axes>"
      ]
     },
     "metadata": {
      "needs_background": "light"
     },
     "output_type": "display_data"
    }
   ],
   "source": [
    "# Vemos como fue el desempeño del modelo\n",
    "plt.plot(modelo.getRisk())\n",
    "plt.xlabel(\"Iteraciones\")\n",
    "plt.ylabel(\"Entropia cruzada\")\n",
    "plt.title(\"Función de riesgo\")\n",
    "plt.show()"
   ]
  },
  {
   "cell_type": "markdown",
   "metadata": {},
   "source": [
    "## 5. Obtener las matrices A y Π a partir de las salidas de la red neuronal (probabilidad Softmax).\n",
    "\n",
    "Modelo de lenguaje μ = (Σ,A,Π)\n",
    "\n",
    "Σ es un conjunto de símbolos o vocabulario\n",
    "\n",
    "A = (a_ij) = p(wj|wi) son las probabilidades de transicion de los \n",
    "bigramas\n",
    "\n",
    "Π = (πi) = p(wi) son las probabilidades iniciales."
   ]
  },
  {
   "cell_type": "code",
   "execution_count": 108,
   "metadata": {},
   "outputs": [
    {
     "name": "stdout",
     "output_type": "stream",
     "text": [
      "Matriz A, tamaño  (503, 503)\n",
      "Matriz Pi, tamaño  (503,)\n"
     ]
    }
   ],
   "source": [
    "# Numero de tipos sin contar las etiqeutas BOS y EOS\n",
    "n_tipos = N\n",
    "\n",
    "# La matriz A es de NxN+1, los renglones consideran EOS\n",
    "A = np.zeros((n_tipos,n_tipos))\n",
    "print(\"Matriz A, tamaño \", A.shape)\n",
    "\n",
    "# Pi es del tamaño de los tipos\n",
    "Pi = np.zeros(n_tipos)\n",
    "print(\"Matriz Pi, tamaño \", Pi.shape)"
   ]
  },
  {
   "cell_type": "code",
   "execution_count": 109,
   "metadata": {
    "scrolled": true
   },
   "outputs": [],
   "source": [
    "# Calculamos las matrices\n",
    "for bigram in train_bigrams:\n",
    "    #Se llena el tensor de transiciones con frecuencias\n",
    "    if dic_train[bigram[0]] != BOS:\n",
    "        A[bigram] = modelo.forward(bigram[0])[0][bigram[0]]\n",
    "    # Se onbtienen las frecuencias de iniciales\n",
    "    elif dic_train[bigram[0]] == BOS and dic_train[bigram[1]] != EOS:\n",
    "        Pi[bigram[1]] = modelo.forward(bigram[1])[0][bigram[1]]"
   ]
  },
  {
   "cell_type": "code",
   "execution_count": 131,
   "metadata": {
    "scrolled": false
   },
   "outputs": [
    {
     "name": "stdout",
     "output_type": "stream",
     "text": [
      "[[0.         0.         0.         ... 0.         0.         0.        ]\n",
      " [0.         0.         0.00115861 ... 0.         0.         0.        ]\n",
      " [0.         0.00033425 0.         ... 0.         0.         0.        ]\n",
      " ...\n",
      " [0.         0.         0.         ... 0.         0.         0.        ]\n",
      " [0.         0.         0.         ... 0.         0.         0.        ]\n",
      " [0.         0.         0.         ... 0.         0.         0.        ]]\n"
     ]
    }
   ],
   "source": [
    "# Visualicemos la matriz A\n",
    "print(A)"
   ]
  },
  {
   "cell_type": "code",
   "execution_count": 130,
   "metadata": {},
   "outputs": [
    {
     "data": {
      "image/png": "[encoded data removed]",
      "text/plain": [
       "<Figure size 432x288 with 1 Axes>"
      ]
     },
     "metadata": {
      "needs_background": "light"
     },
     "output_type": "display_data"
    },
    {
     "name": "stdout",
     "output_type": "stream",
     "text": [
      "[0.00000000e+00 1.15860858e-03 3.34248342e-04 0.00000000e+00\n",
      " 3.10219020e-04 2.49554258e-03 0.00000000e+00 6.68330229e-04\n",
      " 4.99379229e-04 0.00000000e+00 2.80736535e-05 1.23126110e-02\n",
      " 0.00000000e+00 0.00000000e+00 0.00000000e+00 0.00000000e+00\n",
      " 0.00000000e+00 3.37782721e-03 0.00000000e+00 0.00000000e+00\n",
      " 1.14289837e-03 1.77969836e-02 3.72321415e-04 0.00000000e+00\n",
      " 6.21530872e-02 5.50157630e-03 7.59782060e-04 1.82918666e-07\n",
      " 0.00000000e+00 0.00000000e+00 3.15151533e-03 0.00000000e+00\n",
      " 1.21426682e-02 3.76231396e-05 9.50066572e-03 1.24113653e-03\n",
      " 0.00000000e+00 1.45323571e-05 6.18549228e-03 0.00000000e+00\n",
      " 3.72676104e-03 0.00000000e+00 0.00000000e+00 2.32728711e-04\n",
      " 1.48929513e-03 0.00000000e+00 0.00000000e+00 1.16634733e-02\n",
      " 0.00000000e+00 1.50367132e-03 1.77490217e-04 1.14467653e-04\n",
      " 3.25691453e-04 7.78056483e-05 0.00000000e+00 0.00000000e+00\n",
      " 0.00000000e+00 1.84832144e-08 0.00000000e+00 1.96200643e-05\n",
      " 0.00000000e+00 0.00000000e+00 7.76910084e-06 2.34756966e-06\n",
      " 6.56496216e-05 0.00000000e+00 4.31875633e-05 0.00000000e+00\n",
      " 4.70961751e-05 9.23805079e-05 1.49173749e-03 0.00000000e+00\n",
      " 0.00000000e+00 4.30599816e-06 1.07421187e-06 0.00000000e+00\n",
      " 0.00000000e+00 1.75216723e-03 0.00000000e+00 1.30494060e-03\n",
      " 0.00000000e+00 0.00000000e+00 0.00000000e+00 0.00000000e+00\n",
      " 0.00000000e+00 0.00000000e+00 5.66925382e-03 0.00000000e+00\n",
      " 2.32346877e-05 0.00000000e+00 0.00000000e+00 0.00000000e+00\n",
      " 0.00000000e+00 0.00000000e+00 7.98017047e-04 0.00000000e+00\n",
      " 2.95269669e-03 0.00000000e+00 0.00000000e+00 0.00000000e+00\n",
      " 0.00000000e+00 0.00000000e+00 0.00000000e+00 2.86306430e-03\n",
      " 0.00000000e+00 0.00000000e+00 1.51732386e-03 0.00000000e+00\n",
      " 0.00000000e+00 0.00000000e+00 0.00000000e+00 0.00000000e+00\n",
      " 2.89036584e-03 0.00000000e+00 6.05936545e-05 9.49074705e-03\n",
      " 4.98787504e-03 2.99583132e-04 7.52015599e-05 0.00000000e+00\n",
      " 3.19647924e-04 3.77569085e-06 9.35294778e-05 2.34321990e-03\n",
      " 0.00000000e+00 0.00000000e+00 0.00000000e+00 0.00000000e+00\n",
      " 0.00000000e+00 0.00000000e+00 0.00000000e+00 0.00000000e+00\n",
      " 0.00000000e+00 0.00000000e+00 0.00000000e+00 4.36009720e-03\n",
      " 0.00000000e+00 0.00000000e+00 0.00000000e+00 0.00000000e+00\n",
      " 0.00000000e+00 0.00000000e+00 1.28849431e-02 4.13346544e-06\n",
      " 0.00000000e+00 3.37355866e-05 1.14552665e-04 0.00000000e+00\n",
      " 0.00000000e+00 9.39288547e-03 2.25908955e-04 0.00000000e+00\n",
      " 0.00000000e+00 0.00000000e+00 0.00000000e+00 0.00000000e+00\n",
      " 1.79496706e-06 3.30078552e-06 3.49913280e-03 0.00000000e+00\n",
      " 1.17078753e-04 0.00000000e+00 7.82010385e-06 0.00000000e+00\n",
      " 0.00000000e+00 0.00000000e+00 0.00000000e+00 0.00000000e+00\n",
      " 0.00000000e+00 0.00000000e+00 3.38890094e-03 4.15191796e-05\n",
      " 1.36509749e-05 2.16042135e-04 0.00000000e+00 0.00000000e+00\n",
      " 0.00000000e+00 3.27895496e-04 0.00000000e+00 0.00000000e+00\n",
      " 0.00000000e+00 0.00000000e+00 0.00000000e+00 0.00000000e+00\n",
      " 3.47710765e-03 2.30446654e-03 0.00000000e+00 0.00000000e+00\n",
      " 0.00000000e+00 0.00000000e+00 8.73325594e-04 0.00000000e+00\n",
      " 0.00000000e+00 3.45663520e-06 0.00000000e+00 0.00000000e+00\n",
      " 0.00000000e+00 0.00000000e+00 0.00000000e+00 0.00000000e+00\n",
      " 0.00000000e+00 0.00000000e+00 0.00000000e+00 1.78270664e-05\n",
      " 1.61778089e-05 0.00000000e+00 0.00000000e+00 2.07591766e-07\n",
      " 0.00000000e+00 0.00000000e+00 0.00000000e+00 0.00000000e+00\n",
      " 0.00000000e+00 0.00000000e+00 0.00000000e+00 0.00000000e+00\n",
      " 3.01014257e-05 0.00000000e+00 9.61166275e-05 0.00000000e+00\n",
      " 0.00000000e+00 0.00000000e+00 0.00000000e+00 0.00000000e+00\n",
      " 0.00000000e+00 1.92720748e-04 0.00000000e+00 6.66410610e-03\n",
      " 0.00000000e+00 0.00000000e+00 0.00000000e+00 3.57097710e-07\n",
      " 0.00000000e+00 0.00000000e+00 0.00000000e+00 4.44703983e-04\n",
      " 3.34372776e-06 0.00000000e+00 0.00000000e+00 1.57255197e-05\n",
      " 0.00000000e+00 1.77345886e-03 0.00000000e+00 4.55672678e-05\n",
      " 0.00000000e+00 0.00000000e+00 0.00000000e+00 0.00000000e+00\n",
      " 0.00000000e+00 0.00000000e+00 4.37993012e-06 0.00000000e+00\n",
      " 2.47598210e-08 0.00000000e+00 0.00000000e+00 1.02590549e-04\n",
      " 0.00000000e+00 0.00000000e+00 0.00000000e+00 7.15984913e-07\n",
      " 3.80975715e-07 0.00000000e+00 3.16783398e-05 0.00000000e+00\n",
      " 0.00000000e+00 0.00000000e+00 0.00000000e+00 7.83865797e-08\n",
      " 0.00000000e+00 3.15651208e-05 0.00000000e+00 0.00000000e+00\n",
      " 0.00000000e+00 0.00000000e+00 0.00000000e+00 0.00000000e+00\n",
      " 3.21071265e-05 0.00000000e+00 0.00000000e+00 0.00000000e+00\n",
      " 0.00000000e+00 3.68864717e-06 0.00000000e+00 0.00000000e+00\n",
      " 0.00000000e+00 9.45443614e-05 5.91153679e-04 0.00000000e+00\n",
      " 0.00000000e+00 0.00000000e+00 0.00000000e+00 0.00000000e+00\n",
      " 0.00000000e+00 0.00000000e+00 0.00000000e+00 0.00000000e+00\n",
      " 0.00000000e+00 1.99532137e-07 0.00000000e+00 0.00000000e+00\n",
      " 0.00000000e+00 0.00000000e+00 0.00000000e+00 0.00000000e+00\n",
      " 0.00000000e+00 0.00000000e+00 0.00000000e+00 0.00000000e+00\n",
      " 5.71035631e-09 0.00000000e+00 0.00000000e+00 1.09374128e-06\n",
      " 0.00000000e+00 0.00000000e+00 0.00000000e+00 4.18886635e-07\n",
      " 1.50294285e-04 0.00000000e+00 0.00000000e+00 0.00000000e+00\n",
      " 2.24012490e-05 3.11679864e-07 0.00000000e+00 0.00000000e+00\n",
      " 0.00000000e+00 0.00000000e+00 2.11435463e-05 0.00000000e+00\n",
      " 0.00000000e+00 0.00000000e+00 0.00000000e+00 0.00000000e+00\n",
      " 0.00000000e+00 1.82081217e-04 0.00000000e+00 0.00000000e+00\n",
      " 0.00000000e+00 0.00000000e+00 0.00000000e+00 0.00000000e+00\n",
      " 0.00000000e+00 0.00000000e+00 0.00000000e+00 0.00000000e+00\n",
      " 0.00000000e+00 1.08519408e-05 0.00000000e+00 0.00000000e+00\n",
      " 0.00000000e+00 7.14806316e-07 0.00000000e+00 0.00000000e+00\n",
      " 0.00000000e+00 0.00000000e+00 0.00000000e+00 0.00000000e+00\n",
      " 0.00000000e+00 0.00000000e+00 0.00000000e+00 0.00000000e+00\n",
      " 0.00000000e+00 7.02254631e-05 0.00000000e+00 0.00000000e+00\n",
      " 0.00000000e+00 0.00000000e+00 0.00000000e+00 1.21528388e-04\n",
      " 0.00000000e+00 0.00000000e+00 0.00000000e+00 0.00000000e+00\n",
      " 0.00000000e+00 0.00000000e+00 0.00000000e+00 0.00000000e+00\n",
      " 0.00000000e+00 0.00000000e+00 1.38675984e-04 0.00000000e+00\n",
      " 0.00000000e+00 0.00000000e+00 0.00000000e+00 0.00000000e+00\n",
      " 0.00000000e+00 0.00000000e+00 0.00000000e+00 0.00000000e+00\n",
      " 0.00000000e+00 0.00000000e+00 0.00000000e+00 0.00000000e+00\n",
      " 0.00000000e+00 0.00000000e+00 0.00000000e+00 0.00000000e+00\n",
      " 0.00000000e+00 0.00000000e+00 0.00000000e+00 0.00000000e+00\n",
      " 0.00000000e+00 0.00000000e+00 0.00000000e+00 0.00000000e+00\n",
      " 0.00000000e+00 0.00000000e+00 5.78089484e-06 0.00000000e+00\n",
      " 0.00000000e+00 0.00000000e+00 0.00000000e+00 0.00000000e+00\n",
      " 3.10670433e-06 4.82487070e-07 0.00000000e+00 0.00000000e+00\n",
      " 0.00000000e+00 0.00000000e+00 2.27959822e-08 3.94132274e-06\n",
      " 0.00000000e+00 0.00000000e+00 0.00000000e+00 0.00000000e+00\n",
      " 0.00000000e+00 0.00000000e+00 0.00000000e+00 1.50737760e-04\n",
      " 0.00000000e+00 0.00000000e+00 0.00000000e+00 1.09898754e-06\n",
      " 0.00000000e+00 0.00000000e+00 0.00000000e+00 0.00000000e+00\n",
      " 0.00000000e+00 0.00000000e+00 0.00000000e+00 0.00000000e+00\n",
      " 4.24692175e-05 0.00000000e+00 0.00000000e+00 0.00000000e+00\n",
      " 0.00000000e+00 0.00000000e+00 0.00000000e+00 0.00000000e+00\n",
      " 0.00000000e+00 0.00000000e+00 0.00000000e+00 0.00000000e+00\n",
      " 0.00000000e+00 0.00000000e+00 0.00000000e+00 0.00000000e+00\n",
      " 0.00000000e+00 0.00000000e+00 1.69522979e-07 0.00000000e+00\n",
      " 0.00000000e+00 0.00000000e+00 0.00000000e+00 7.11619719e-09\n",
      " 0.00000000e+00 0.00000000e+00 3.01033036e-06 0.00000000e+00\n",
      " 0.00000000e+00 0.00000000e+00 0.00000000e+00 0.00000000e+00\n",
      " 2.86368828e-04 0.00000000e+00 0.00000000e+00 0.00000000e+00\n",
      " 0.00000000e+00 0.00000000e+00 0.00000000e+00 2.56639159e-04\n",
      " 0.00000000e+00 0.00000000e+00 3.20013603e-06 0.00000000e+00\n",
      " 2.06643283e-08 0.00000000e+00 0.00000000e+00 1.98683367e-06\n",
      " 0.00000000e+00 0.00000000e+00 0.00000000e+00 0.00000000e+00\n",
      " 0.00000000e+00 0.00000000e+00 0.00000000e+00 0.00000000e+00\n",
      " 0.00000000e+00 0.00000000e+00 0.00000000e+00 0.00000000e+00\n",
      " 0.00000000e+00 0.00000000e+00 0.00000000e+00]\n"
     ]
    }
   ],
   "source": [
    "# Veamos los valores de Pi\n",
    "plt.plot(Pi)\n",
    "plt.xlabel(\"Tipo (Indice del tipo en el diccionario)\")\n",
    "plt.ylabel(\"Probabilidad inicial\")\n",
    "plt.title(\"Vector Pi de probabilidades iniciales\")\n",
    "plt.show()\n",
    "\n",
    "print(Pi)"
   ]
  },
  {
   "cell_type": "markdown",
   "metadata": {},
   "source": [
    "## 6. Evaluar el modelo (con Entropía)."
   ]
  },
  {
   "cell_type": "code",
   "execution_count": 138,
   "metadata": {},
   "outputs": [
    {
     "name": "stdout",
     "output_type": "stream",
     "text": [
      "### Linea  1  del corpus de evaluacion ###\n",
      "\n",
      "Linea de texto\n",
      "['no', 'quer', 'que', 'vin', 'y', 'que', 'me', 'vier']\n",
      "\n",
      "Linea son simbolos de sentencia\n",
      "['<BOS>', 'no', 'quer', 'que', 'vin', 'y', 'que', 'me', '<UNK>', '<EOS>']\n",
      "\n",
      "Linea con indices \n",
      "[0, 1, 2, 3, 4, 5, 3, 6, 7, 8]\n",
      "\n",
      "\n",
      "\n",
      "### Linea  2  del corpus de evaluacion ###\n",
      "\n",
      "Linea de texto\n",
      "['pues', 'primer', 'se', 'empiez', 'a', 'troz', 'un', 'molcajet', 'o', 'sea', 'se', 'emparej']\n",
      "\n",
      "Linea son simbolos de sentencia\n",
      "['<BOS>', 'pues', 'primer', 'se', 'empiez', 'a', 'troz', 'un', 'molcajet', 'o', 'sea', 'se', 'emparej', '<EOS>']\n",
      "\n",
      "Linea con indices \n",
      "[0, 9, 10, 11, 12, 13, 14, 15, 16, 17, 18, 11, 19, 8]\n",
      "\n",
      "\n",
      "\n",
      "### Linea  3  del corpus de evaluacion ###\n",
      "\n",
      "Linea de texto\n",
      "['per', 'cuand', 'estas', 'sol', 'los', 'niñ', 'no', 'te', 'entiend']\n",
      "\n",
      "Linea son simbolos de sentencia\n",
      "['<BOS>', 'per', 'cuand', 'estas', 'sol', 'los', 'niñ', 'no', 'te', 'entiend', '<EOS>']\n",
      "\n",
      "Linea con indices \n",
      "[0, 20, 21, 22, 23, 24, 25, 1, 26, 27, 8]\n",
      "\n",
      "\n",
      "\n"
     ]
    }
   ],
   "source": [
    "cont = 0\n",
    "for line in eval_corpus[:3]:\n",
    "    print(\"### Linea \", cont+1, \" del corpus de evaluacion ###\")\n",
    "    print(\"\\nLinea de texto\")\n",
    "    print(eval_corpus[cont])\n",
    "    print(\"\\nLinea son simbolos de sentencia\")\n",
    "    print(eval_corpus_w_simbols[cont])\n",
    "    print(\"\\nLinea con indices \")\n",
    "    print(eval_corpus_ids[cont])\n",
    "    print(\"\\n\\n\")\n",
    "    cont += 1"
   ]
  },
  {
   "cell_type": "markdown",
   "metadata": {},
   "source": [
    "## 7. Calcular la probabilidad de las siguientes oraciones:\n",
    "   - Nos bañamos con agua caliente\n",
    "   - El animalito le olía la cabeza\n",
    "   - Pascuala ordeñaba las vacas"
   ]
  },
  {
   "cell_type": "code",
   "execution_count": 140,
   "metadata": {},
   "outputs": [],
   "source": [
    "# Definamos funcion que calcula la probabilidad de una frase\n",
    "# Tomamos como apoyo las matrices A y PI\n",
    "\n",
    "def prob_phrase(bigrams, A, Pi):\n",
    "    prob = Pi[bigrams[0][0]]\n",
    "    return prob"
   ]
  }
 ],
 "metadata": {
  "kernelspec": {
   "display_name": "Python 3",
   "language": "python",
   "name": "python3"
  },
  "language_info": {
   "codemirror_mode": {
    "name": "ipython",
    "version": 3
   },
   "file_extension": ".py",
   "mimetype": "text/x-python",
   "name": "python",
   "nbconvert_exporter": "python",
   "pygments_lexer": "ipython3",
   "version": "3.7.4"
  }
 },
 "nbformat": 4,
 "nbformat_minor": 2
}
