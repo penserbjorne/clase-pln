{
 "cells": [
  {
   "cell_type": "markdown",
   "metadata": {},
   "source": [
    "# Practica 2\n",
    "\n",
    "**Objetivo:** A partir del [corpus proporcionado](./../99_corpus/corpusML.txt) realizar un modelo del lenguaje neuronal con base en la arquitectura propuesta por Bengio (2003)."
   ]
  },
  {
   "cell_type": "code",
   "execution_count": 1,
   "metadata": {},
   "outputs": [],
   "source": [
    "from re import sub\n",
    "from unicodedata import normalize\n",
    "from nltk.stem.snowball import SpanishStemmer\n",
    "from sklearn.model_selection import train_test_split\n",
    "from itertools import chain\n",
    "from collections import Counter,defaultdict\n",
    "import numpy as np\n",
    "np.random.seed(0)\n",
    "import matplotlib.pyplot as plt\n",
    "import pandas as pd\n",
    "\n",
    "# Definimos funcion de apoyo para imprimir ejemplos de los corpus\n",
    "def ejemplos(msg, collection, n_elements):\n",
    "    print(msg)\n",
    "    for element in collection[:n_elements]:\n",
    "        print(element)"
   ]
  },
  {
   "cell_type": "markdown",
   "metadata": {},
   "source": [
    "## 1. Limpiar los textos y aplicar stemming a las palabras."
   ]
  },
  {
   "cell_type": "code",
   "execution_count": 2,
   "metadata": {},
   "outputs": [],
   "source": [
    "# Abrir el documento\n",
    "document = './../99_corpus/corpusML.txt'\n",
    "text = open(document,'r',encoding='utf-8').read()"
   ]
  },
  {
   "cell_type": "code",
   "execution_count": 3,
   "metadata": {},
   "outputs": [
    {
     "name": "stdout",
     "output_type": "stream",
     "text": [
      "### Lineas de ejemplo ###\n",
      "\n",
      "comencé a trabajar y me pegaron me maltrataron con chicote\n",
      "mis patrones me pegaron porque no me quería apurar porque era flojo\n",
      "por eso me habían pegado\n",
      "cuando me pegaban ya entonces me quitaba\n",
      "pues entonces no quise trabajar\n"
     ]
    }
   ],
   "source": [
    "# Limpiamos el documento\n",
    "text_clean = \"\"\n",
    "lines = []\n",
    "\n",
    "for line in text.split(\"\\n\"):\n",
    "    # Eliminamos caracteres compuestos y pasamos a minusculas\n",
    "    line = normalize('NFKC', line).lower()\n",
    "    # Eliminamos extensiones y numeros\n",
    "    line = sub(r\"\\\\.*|{.*}|\\\\|\\[.*\\]|[!-@[-`{-~]\", ' ', line)\n",
    "    # Eliminamos signos de puntuacion\n",
    "    line = sub(r\"[^\\w]\", \" \", line)\n",
    "    # Eliminamos saltos de linea\n",
    "    line = \" \".join(line.split())\n",
    "    # Si la linea no esta vacia la añadimos al texto limpio\n",
    "    if line:\n",
    "        lines.append(line)\n",
    "        \n",
    "text_clean += \" \".join(lines)\n",
    "text_clean = text_clean.split()\n",
    "\n",
    "ejemplos(\"### Lineas de ejemplo ###\\n\", lines, 5)"
   ]
  },
  {
   "cell_type": "code",
   "execution_count": 4,
   "metadata": {},
   "outputs": [
    {
     "name": "stdout",
     "output_type": "stream",
     "text": [
      "### Lineas de ejemplo ###\n",
      "\n",
      "['comenc', 'a', 'trabaj', 'y', 'me', 'peg', 'me', 'maltrat', 'con', 'chicot']\n",
      "['mis', 'patron', 'me', 'peg', 'porqu', 'no', 'me', 'quer', 'apur', 'porqu', 'era', 'floj']\n",
      "['por', 'eso', 'me', 'hab', 'peg']\n",
      "['cuand', 'me', 'peg', 'ya', 'entonc', 'me', 'quit']\n",
      "['pues', 'entonc', 'no', 'quis', 'trabaj']\n",
      "['ya', 'no', 'quis', 'estar', 'com', 'me', 'peg']\n",
      "['despues', 'ya', 'estuv', 'nomas', 'en', 'mi', 'cas']\n",
      "['fui', 'a', 'junt', 'cac', 'de', 'caball']\n",
      "['fui', 'a', 'junt', 'caquit', 'de', 'caball']\n",
      "['se', 'me', 'avent', 'las', 'culebr']\n"
     ]
    }
   ],
   "source": [
    "# Aplicamos Stemming a los tokens limpios\n",
    "\n",
    "# Debido a que el corpus se encuentra en español, utilizaremos el stemmer de NLTK para español.\n",
    "stemmer = SpanishStemmer()\n",
    "stems = []\n",
    "for line in lines:\n",
    "    stems.append([stemmer.stem(word) for word in line.split(\" \")])\n",
    "    \n",
    "ejemplos(\"### Lineas de ejemplo ###\\n\", stems, 10)"
   ]
  },
  {
   "cell_type": "code",
   "execution_count": 5,
   "metadata": {},
   "outputs": [],
   "source": [
    "# Separación del corpus en prueba (70%) y evaluación (30%)\n",
    "train_corpus, eval_corpus = train_test_split(stems, test_size=0.3)"
   ]
  },
  {
   "cell_type": "markdown",
   "metadata": {},
   "source": [
    "## 2. Insertar símbolos de inicio y final de cadena."
   ]
  },
  {
   "cell_type": "code",
   "execution_count": 6,
   "metadata": {},
   "outputs": [],
   "source": [
    "# Definimos los simbolos\n",
    "BOS = '<BOS>'\n",
    "EOS = '<EOS>'\n",
    "UNK = '<UNK>'"
   ]
  },
  {
   "cell_type": "code",
   "execution_count": 7,
   "metadata": {},
   "outputs": [],
   "source": [
    "# Definamos una función para sustituir los hapax, esta funcion recibe un corpus\n",
    "def replace_hapax(corpus):\n",
    "    # Obtenemos las frecuencias de las palabras del corpus\n",
    "    freqs = Counter( chain(*[' '.join(sent).split() for sent in corpus]) )\n",
    "\n",
    "    # Sustituimos los hápax por UNK en las palabras con frecuencia = 1\n",
    "    corpus_unk = []\n",
    "\n",
    "    for line in corpus:\n",
    "        new_line = []\n",
    "        for word in line:\n",
    "            # Si la frecuencia de la palabra = 1, es un hapáx\n",
    "            if freqs[word] == 1:\n",
    "                new_line.append(UNK)\n",
    "            # Si no, añadimos la palabra original\n",
    "            else:\n",
    "                new_line.append(word)\n",
    "        corpus_unk.append(new_line)\n",
    "    return corpus_unk"
   ]
  },
  {
   "cell_type": "code",
   "execution_count": 8,
   "metadata": {},
   "outputs": [
    {
     "name": "stdout",
     "output_type": "stream",
     "text": [
      "### Lineas de ejemplo con simbolos <UNK> ###\n",
      "['se', 'le', 'termin', 'de', '<UNK>']\n",
      "['las', '<UNK>', 'a', 'las', 'dos', 'a', 'tu', '<UNK>', 'y', 'a', '<UNK>']\n",
      "['le', 'dig', 'le', 'vas', 'a', 'met', 'su', 'maicit']\n",
      "['cuand', 'hub', 'sab', 'alla', 'en', 'el', 'centr', 'pues', 'me', 'han', 'mand', 'a', 'fabric', 'piedr']\n",
      "['hast', 'le', 'dir', 'entonc', 'en', 'le', 'dia', 'no', 'te', 'duerm']\n",
      "['solt', 'el', '<UNK>', 'de', '<UNK>', 'que', 'carg', 'mi', 'difunt', 'padrecit']\n",
      "['he', 'ven', 'he', 'camin', 'medi', '<UNK>']\n",
      "['no', 'lo', 'han', 'de', 'troz', 'pues', 'troz', 'asi', 'dic']\n",
      "['o', 'era', 'el', 'que', 'le', 'dec', 'san', '<UNK>']\n",
      "['pues', 'se', 'embarr', 'de', 'lod', 'otra', 'vez']\n"
     ]
    }
   ],
   "source": [
    "# Sustituimos los hápax en los corpus\n",
    "\n",
    "corpus_unk = []\n",
    "corpus_unk = replace_hapax(train_corpus)\n",
    "ejemplos(\"### Lineas de ejemplo con simbolos <UNK> ###\", corpus_unk, 10)"
   ]
  },
  {
   "cell_type": "code",
   "execution_count": 9,
   "metadata": {},
   "outputs": [],
   "source": [
    "# Definamos una función para insertar los BOS y EOS\n",
    "def insert_simbols_of_sentence(corpus):\n",
    "    corpus_w_simbols = [ [BOS] + line + [EOS] for line in corpus ]\n",
    "    return corpus_w_simbols"
   ]
  },
  {
   "cell_type": "code",
   "execution_count": 10,
   "metadata": {},
   "outputs": [
    {
     "name": "stdout",
     "output_type": "stream",
     "text": [
      " ### Lineas de ejemplo del corpus don simbolos ###\n",
      "['<BOS>', 'se', 'le', 'termin', 'de', '<UNK>', '<EOS>']\n",
      "['<BOS>', 'las', '<UNK>', 'a', 'las', 'dos', 'a', 'tu', '<UNK>', 'y', 'a', '<UNK>', '<EOS>']\n",
      "['<BOS>', 'le', 'dig', 'le', 'vas', 'a', 'met', 'su', 'maicit', '<EOS>']\n",
      "['<BOS>', 'cuand', 'hub', 'sab', 'alla', 'en', 'el', 'centr', 'pues', 'me', 'han', 'mand', 'a', 'fabric', 'piedr', '<EOS>']\n",
      "['<BOS>', 'hast', 'le', 'dir', 'entonc', 'en', 'le', 'dia', 'no', 'te', 'duerm', '<EOS>']\n",
      "['<BOS>', 'solt', 'el', '<UNK>', 'de', '<UNK>', 'que', 'carg', 'mi', 'difunt', 'padrecit', '<EOS>']\n",
      "['<BOS>', 'he', 'ven', 'he', 'camin', 'medi', '<UNK>', '<EOS>']\n",
      "['<BOS>', 'no', 'lo', 'han', 'de', 'troz', 'pues', 'troz', 'asi', 'dic', '<EOS>']\n",
      "['<BOS>', 'o', 'era', 'el', 'que', 'le', 'dec', 'san', '<UNK>', '<EOS>']\n",
      "['<BOS>', 'pues', 'se', 'embarr', 'de', 'lod', 'otra', 'vez', '<EOS>']\n"
     ]
    }
   ],
   "source": [
    "# Insertamos BOS y EOS\n",
    "corpus_w_simbols = []\n",
    "corpus_w_simbols = insert_simbols_of_sentence(corpus_unk)\n",
    "ejemplos(\" ### Lineas de ejemplo del corpus don simbolos ###\", corpus_w_simbols, 10)"
   ]
  },
  {
   "cell_type": "markdown",
   "metadata": {},
   "source": [
    "## 3. Obtener los bigramas que aparecen en el texto (indexar numéricamente)."
   ]
  },
  {
   "cell_type": "code",
   "execution_count": 11,
   "metadata": {},
   "outputs": [],
   "source": [
    "# Definamos una función para indexar numericamente\n",
    "def corpus2index(corpus):\n",
    "    # Creamos un diccionario para los stems\n",
    "    vocab = defaultdict()\n",
    "    vocab.default_factory = lambda: len(vocab)\n",
    "\n",
    "    # Creamos el corpus con sus indices\n",
    "    corpus_ids = [[vocab[word] for word in line] for line in corpus]\n",
    "    return corpus_ids, vocab\n",
    "\n",
    "# Definamos una funcion para obtener el diccionario de indice:palabra\n",
    "def dicKeyWord(vocab):\n",
    "    return { idx: w for w,idx in vocab.items()}\n",
    "\n",
    "# Definamos una funcion para obtener el diccionario de palabra:indice\n",
    "def dicWordKey(vocab):\n",
    "    return { w: idx for w,idx in vocab.items()}"
   ]
  },
  {
   "cell_type": "code",
   "execution_count": 12,
   "metadata": {},
   "outputs": [
    {
     "name": "stdout",
     "output_type": "stream",
     "text": [
      "Oraciones en corpus con simbolos\n",
      "['<BOS>', 'se', 'le', 'termin', 'de', '<UNK>', '<EOS>']\n",
      "['<BOS>', 'las', '<UNK>', 'a', 'las', 'dos', 'a', 'tu', '<UNK>', 'y', 'a', '<UNK>', '<EOS>']\n",
      "['<BOS>', 'le', 'dig', 'le', 'vas', 'a', 'met', 'su', 'maicit', '<EOS>']\n",
      "['<BOS>', 'cuand', 'hub', 'sab', 'alla', 'en', 'el', 'centr', 'pues', 'me', 'han', 'mand', 'a', 'fabric', 'piedr', '<EOS>']\n",
      "['<BOS>', 'hast', 'le', 'dir', 'entonc', 'en', 'le', 'dia', 'no', 'te', 'duerm', '<EOS>']\n",
      "['<BOS>', 'solt', 'el', '<UNK>', 'de', '<UNK>', 'que', 'carg', 'mi', 'difunt', 'padrecit', '<EOS>']\n",
      "['<BOS>', 'he', 'ven', 'he', 'camin', 'medi', '<UNK>', '<EOS>']\n",
      "['<BOS>', 'no', 'lo', 'han', 'de', 'troz', 'pues', 'troz', 'asi', 'dic', '<EOS>']\n",
      "['<BOS>', 'o', 'era', 'el', 'que', 'le', 'dec', 'san', '<UNK>', '<EOS>']\n",
      "['<BOS>', 'pues', 'se', 'embarr', 'de', 'lod', 'otra', 'vez', '<EOS>']\n",
      "\n",
      "Palabras en indexadas\n",
      "[0, 1, 2, 3, 4, 5, 6]\n",
      "[0, 7, 5, 8, 7, 9, 8, 10, 5, 11, 8, 5, 6]\n",
      "[0, 2, 12, 2, 13, 8, 14, 15, 16, 6]\n",
      "[0, 17, 18, 19, 20, 21, 22, 23, 24, 25, 26, 27, 8, 28, 29, 6]\n",
      "[0, 30, 2, 31, 32, 21, 2, 33, 34, 35, 36, 6]\n",
      "[0, 37, 22, 5, 4, 5, 38, 39, 40, 41, 42, 6]\n",
      "[0, 43, 44, 43, 45, 46, 5, 6]\n",
      "[0, 34, 47, 26, 4, 48, 24, 48, 49, 50, 6]\n",
      "[0, 51, 52, 22, 38, 2, 53, 54, 5, 6]\n",
      "[0, 24, 1, 55, 4, 56, 57, 58, 6]\n"
     ]
    }
   ],
   "source": [
    "# Indexamos numericamente los stems\n",
    "\n",
    "corpus_ids, corpus_vocab = corpus2index(corpus_w_simbols)\n",
    "ejemplos(\"Oraciones en corpus con simbolos\", corpus_w_simbols, 10)\n",
    "ejemplos(\"\\nPalabras en indexadas\", corpus_ids, 10)\n",
    "\n",
    "# Creamos los diccionarios key:word para recuperar posteriormente\n",
    "dic_kw_train = dicKeyWord(corpus_vocab)\n",
    "# Creamos los diccionarios word:key para recuperar posteriormente\n",
    "dic_wk_train = dicWordKey(corpus_vocab)"
   ]
  },
  {
   "cell_type": "code",
   "execution_count": 13,
   "metadata": {},
   "outputs": [],
   "source": [
    "# Definamos una función para crear los bigrama\n",
    "def corpus2bigrams(corpus):\n",
    "    bigrams = list(chain(*[zip(cad,cad[1:]) for cad in corpus]))\n",
    "    return bigrams"
   ]
  },
  {
   "cell_type": "code",
   "execution_count": 14,
   "metadata": {},
   "outputs": [
    {
     "name": "stdout",
     "output_type": "stream",
     "text": [
      "Número de bigramas: 6858\n",
      "\n",
      "Ejemplos de bigramas\n",
      " [(0, 1), (1, 2), (2, 3), (3, 4), (4, 5), (5, 6), (0, 7), (7, 5), (5, 8), (8, 7), (7, 9), (9, 8), (8, 10), (10, 5), (5, 11), (11, 8), (8, 5), (5, 6), (0, 2), (2, 12), (12, 2), (2, 13), (13, 8), (8, 14), (14, 15), (15, 16), (16, 6), (0, 17), (17, 18), (18, 19), (19, 20), (20, 21), (21, 22), (22, 23), (23, 24), (24, 25), (25, 26), (26, 27), (27, 8), (8, 28), (28, 29), (29, 6), (0, 30), (30, 2), (2, 31), (31, 32), (32, 21), (21, 2), (2, 33), (33, 34)]\n"
     ]
    }
   ],
   "source": [
    "# Obtencion de los bigramas\n",
    "bigrams = []\n",
    "bigrams = corpus2bigrams(corpus_ids)\n",
    "print(\"Número de bigramas:\", len(bigrams))\n",
    "print(\"\\nEjemplos de bigramas\\n\", bigrams[:50])"
   ]
  },
  {
   "cell_type": "markdown",
   "metadata": {},
   "source": [
    "## 4. Entrenar con los bigramas la red neuronal y obtener los valores para los hiperparámetros. Tomar de 100 unidades para la primera capa oculta (capa lineal) y 300 para la segunda capa oculta (capa con tanh).`"
   ]
  },
  {
   "cell_type": "code",
   "execution_count": 66,
   "metadata": {},
   "outputs": [],
   "source": [
    "class Bengio:\n",
    "    # Constructor del objeto\n",
    "    def __init__(self, bigrams, T, d, m, n, N):\n",
    "        self.bigrams = bigrams\n",
    "        self.T = T    # Numero de iteraciones\n",
    "        self.d = d    # Dimension de los embeddings\n",
    "        self.m = m    # Numero de unidades en la capa oculta\n",
    "        self.n = n    # Rango de aprendizaje\n",
    "        self.N = N    # Tamaño del vocabulario\n",
    "    \n",
    "    # Inicializamos parametros del modelo\n",
    "    def initialize_params(self):\n",
    "        # Matriz de representacion lineal en la primera capa oculta, C ∈ R^(d×N)\n",
    "        self.C = np.random.random((self.d, self.N))/np.sqrt(self.N)\n",
    "        # Matriz de pesos en la segunda capa oculta, W ∈ R^(m×d)\n",
    "        self.W = np.random.random((self.m, self.d))/np.sqrt(self.d)\n",
    "        # Bias, b ∈ R^m\n",
    "        self.b = np.random.random(self.m)\n",
    "        # Matriz de pesos en la capa de salida, U ∈ R^(N×m)\n",
    "        self.U = np.random.random((self.N, self.m))/np.sqrt(self.m)\n",
    "        # Bias, c ∈ R^m\n",
    "        self.c = np.random.random(self.N)\n",
    "        # Riesgo\n",
    "        self.R = []\n",
    "        self.R_it = 0\n",
    "    \n",
    "    # Definimos los pasos de forward\n",
    "    def forward(self, i_x):\n",
    "        # Capa de embedding\n",
    "        c_i = self.C[:,i_x]\n",
    "        # Capa oculta\n",
    "        h_i = np.tanh(np.dot(self.W, c_i) + self.b)\n",
    "        # Capa de salida (Softmax)\n",
    "        # -> Pre-activacion\n",
    "        a_i = np.dot(self.U, h_i) + self.c\n",
    "        # -> Activacion\n",
    "        e_a = np.exp(a_i - a_i.max())\n",
    "        p_wk_wi = e_a / e_a.sum()\n",
    "        \n",
    "        return (p_wk_wi, h_i)\n",
    "    \n",
    "    # Definimos la funcion de riesgo\n",
    "    def risk(self, p_wk_wi, i_y):\n",
    "        # Entropia cruzada\n",
    "        self.R_it -= np.log(p_wk_wi[i_y].sum())\n",
    "    \n",
    "    # Definimos la funcion para guardar la entropia al final de la iteracion\n",
    "    def saveRisk(self):\n",
    "        self.R.append(self.R_it)\n",
    "    \n",
    "    # Definimios la funcion para obtener el historial de la entropia cruzada\n",
    "    def getRisk(self):\n",
    "        return self.R\n",
    "\n",
    "    # Definimos los pasos de backward (backpropagation)\n",
    "    def backward(self, i_y, p_wk_wi, h_i):\n",
    "        # Capa de salida\n",
    "        d_out = np.array(p_wk_wi, copy=True) \n",
    "        d_out[i_y] -= 1\n",
    "        # Capa oculta\n",
    "        d_h = (1 - (h_i*h_i)) * np.dot(d_out.T, self.U)\n",
    "        # Capa de embedding\n",
    "        d_c = np.dot(d_h.T, self.W)\n",
    "        \n",
    "        return (d_out, d_h, d_c)\n",
    "    \n",
    "    # Definimos la actualización de pesos (gradiente descendente)\n",
    "    def updateWeights(self, d_out, h_i, d_h, d_c, i_x):\n",
    "        # Capa de salida\n",
    "        self.U -= self.n * np.outer(d_out, h_i)\n",
    "        # Capa oculta\n",
    "        self.W -= self.n * np.outer(d_h, self.C[:, i_x])\n",
    "        self.c -= self.n * d_out\n",
    "        #self.c -= self.n * d_h\n",
    "        # Capa de embedding\n",
    "        self.C[:, i_x] -=  self.n * d_c\n",
    "        self.b -= self.n * d_h\n",
    "        #self.b -= self.n * d_c\n",
    "    \n",
    "    # Definimos el entrenamiento\n",
    "    def train(self):\n",
    "        for it in range(0, self.T):\n",
    "            self.R_it = 0\n",
    "            for pair in self.bigrams:\n",
    "                # Separamos el bigrama en la palabra y la clase\n",
    "                i_x = pair[0]\n",
    "                i_y = pair[1]\n",
    "                # Forward\n",
    "                p_wk_wi, h_i = self.forward(i_x)\n",
    "                # Funcion de riesgo\n",
    "                self.risk(p_wk_wi, i_y)\n",
    "                # Backward\n",
    "                d_out, d_h, d_c = self.backward(i_y, p_wk_wi, h_i)\n",
    "                # Actualizacion de pesos\n",
    "                self.updateWeights(d_out, h_i, d_h, d_c, i_x)\n",
    "            # Guardamos el historial de la entropia cruzada\n",
    "            self.saveRisk()\n",
    "            print(\"Epoch: \", it, \"\\tEntropia cruzada: \", self.R_it)\n",
    "        print(\"### Ha terminado el entrenamiento ###\")\n",
    "    \n",
    "    # Definimos funcion para obtener la entropia de una frase\n",
    "    def entropy_phrase(self, sentence):\n",
    "        entropy = 0\n",
    "        for pair in sentence:\n",
    "            i_x = pair[0]\n",
    "            i_y = pair[1]\n",
    "            p_wk_wi, h_i = self.forward(i_x)\n",
    "            entropy -= np.log(p_wk_wi[i_y].sum())\n",
    "        return entropy\n",
    "    \n",
    "    # Definimos funcion para la siguiente palabra\n",
    "    def predict(self, i_x):\n",
    "        return np.argmax(self.forward(i_x)[0])"
   ]
  },
  {
   "cell_type": "code",
   "execution_count": 52,
   "metadata": {},
   "outputs": [
    {
     "name": "stdout",
     "output_type": "stream",
     "text": [
      "Tamaño del vocabulario:  503\n"
     ]
    }
   ],
   "source": [
    "# Definimos hiperparametros de la red\n",
    "T = 10    # Numero de iteraciones\n",
    "d = 100    # Dimension de los embeddings\n",
    "m = 300    # Numero de unidades en la capa oculta\n",
    "n = 0.1    # Rango de aprendizaje\n",
    "N = len(corpus_vocab) # Tamaño del vocabulario\n",
    "\n",
    "print(\"Tamaño del vocabulario: \", N)"
   ]
  },
  {
   "cell_type": "code",
   "execution_count": 67,
   "metadata": {
    "scrolled": true
   },
   "outputs": [
    {
     "name": "stdout",
     "output_type": "stream",
     "text": [
      "Epoch:  0 \tEntropia cruzada:  33645.254668347676\n",
      "Epoch:  1 \tEntropia cruzada:  30860.698521577317\n",
      "Epoch:  2 \tEntropia cruzada:  29660.353549034222\n",
      "Epoch:  3 \tEntropia cruzada:  28698.07257177817\n",
      "Epoch:  4 \tEntropia cruzada:  27897.6779450702\n",
      "Epoch:  5 \tEntropia cruzada:  27257.786329859595\n",
      "Epoch:  6 \tEntropia cruzada:  26782.399054987396\n",
      "Epoch:  7 \tEntropia cruzada:  26429.813923917714\n",
      "Epoch:  8 \tEntropia cruzada:  26187.4800068071\n",
      "Epoch:  9 \tEntropia cruzada:  26051.6697514551\n",
      "### Ha terminado el entrenamiento ###\n"
     ]
    }
   ],
   "source": [
    "# Creamos objeto del modelo y lo entrenamos\n",
    "modelo = Bengio(bigrams, T, d, m, n, N)\n",
    "modelo.initialize_params()\n",
    "modelo.train()"
   ]
  },
  {
   "cell_type": "code",
   "execution_count": 54,
   "metadata": {},
   "outputs": [
    {
     "data": {
      "image/png": "[encoded data removed]",
      "text/plain": [
       "<Figure size 432x288 with 1 Axes>"
      ]
     },
     "metadata": {
      "needs_background": "light"
     },
     "output_type": "display_data"
    }
   ],
   "source": [
    "# Vemos como se fue ajustando la funcion de riesgo\n",
    "plt.plot(modelo.getRisk())\n",
    "plt.xlabel(\"Iteraciones\")\n",
    "plt.ylabel(\"Entropia cruzada\")\n",
    "plt.title(\"Función de riesgo\")\n",
    "plt.show()"
   ]
  },
  {
   "cell_type": "markdown",
   "metadata": {},
   "source": [
    "## 5. Obtener las matrices A y Π a partir de las salidas de la red neuronal (probabilidad Softmax).\n",
    "\n",
    "Modelo de lenguaje μ = (Σ,A,Π)\n",
    "\n",
    "Σ es un conjunto de símbolos o vocabulario\n",
    "\n",
    "A = (a_ij) = p(wj|wi) son las probabilidades de transicion de los \n",
    "bigramas\n",
    "\n",
    "Π = (πi) = p(wi) son las probabilidades iniciales."
   ]
  },
  {
   "cell_type": "code",
   "execution_count": 55,
   "metadata": {},
   "outputs": [
    {
     "name": "stdout",
     "output_type": "stream",
     "text": [
      "Matriz A, tamaño  (503, 504)\n",
      "Matriz Pi, tamaño  (503,)\n"
     ]
    }
   ],
   "source": [
    "# Numero de tipos sin contar las etiqeutas BOS y EOS\n",
    "n_tipos = N\n",
    "\n",
    "# La matriz A es de NxN+1, los renglones consideran EOS\n",
    "A = np.zeros((n_tipos,n_tipos+1))\n",
    "print(\"Matriz A, tamaño \", A.shape)\n",
    "\n",
    "# Pi es del tamaño de los tipos\n",
    "Pi = np.zeros(n_tipos)\n",
    "print(\"Matriz Pi, tamaño \", Pi.shape)"
   ]
  },
  {
   "cell_type": "code",
   "execution_count": 56,
   "metadata": {
    "scrolled": true
   },
   "outputs": [],
   "source": [
    "# Calculamos las matrices\n",
    "for bigram in bigrams:\n",
    "    #Se llena el tensor de transiciones con frecuencias\n",
    "    if dic_kw_train[bigram[0]] != BOS:\n",
    "        A[bigram] = modelo.forward(bigram[0])[0][bigram[0]]\n",
    "    # Se onbtienen las frecuencias de iniciales\n",
    "    elif dic_kw_train[bigram[0]] == BOS and dic_kw_train[bigram[1]] != EOS:\n",
    "        Pi[bigram[1]] = modelo.forward(bigram[1])[0][bigram[1]]"
   ]
  },
  {
   "cell_type": "code",
   "execution_count": 57,
   "metadata": {
    "scrolled": false
   },
   "outputs": [
    {
     "name": "stdout",
     "output_type": "stream",
     "text": [
      "[[0.         0.         0.         ... 0.         0.         0.        ]\n",
      " [0.         0.         0.00481152 ... 0.         0.         0.        ]\n",
      " [0.         0.00019676 0.         ... 0.         0.         0.        ]\n",
      " ...\n",
      " [0.         0.         0.         ... 0.         0.         0.        ]\n",
      " [0.         0.         0.         ... 0.         0.         0.        ]\n",
      " [0.         0.         0.         ... 0.         0.         0.        ]]\n"
     ]
    }
   ],
   "source": [
    "# Visualicemos la matriz A\n",
    "print(A)"
   ]
  },
  {
   "cell_type": "code",
   "execution_count": 58,
   "metadata": {},
   "outputs": [
    {
     "data": {
      "image/png": "[encoded data removed]",
      "text/plain": [
       "<Figure size 432x288 with 1 Axes>"
      ]
     },
     "metadata": {
      "needs_background": "light"
     },
     "output_type": "display_data"
    },
    {
     "name": "stdout",
     "output_type": "stream",
     "text": [
      "[0.00000000e+00 4.81152026e-03 1.96755467e-04 0.00000000e+00\n",
      " 2.90242477e-04 1.39238156e-02 0.00000000e+00 8.57048128e-04\n",
      " 1.53492892e-03 0.00000000e+00 3.53976341e-04 1.08253378e-02\n",
      " 0.00000000e+00 0.00000000e+00 0.00000000e+00 0.00000000e+00\n",
      " 0.00000000e+00 6.93046243e-03 0.00000000e+00 0.00000000e+00\n",
      " 3.06443757e-04 1.98188313e-03 1.73772972e-03 0.00000000e+00\n",
      " 1.66116195e-02 1.32539829e-03 2.81952891e-05 2.07550807e-06\n",
      " 0.00000000e+00 0.00000000e+00 1.18359050e-03 0.00000000e+00\n",
      " 1.27963708e-02 1.19989473e-04 3.41606273e-03 1.22230584e-03\n",
      " 0.00000000e+00 1.53243883e-04 5.04228510e-03 0.00000000e+00\n",
      " 4.52020831e-03 0.00000000e+00 0.00000000e+00 1.85606412e-05\n",
      " 1.52915482e-03 0.00000000e+00 0.00000000e+00 1.48715253e-02\n",
      " 0.00000000e+00 6.08225667e-04 2.22799394e-04 7.54141292e-04\n",
      " 4.47060438e-04 6.97065581e-04 0.00000000e+00 0.00000000e+00\n",
      " 0.00000000e+00 1.03787362e-07 0.00000000e+00 4.36339856e-05\n",
      " 0.00000000e+00 0.00000000e+00 1.80709755e-04 2.30788082e-05\n",
      " 2.43003810e-05 0.00000000e+00 4.32678203e-04 0.00000000e+00\n",
      " 2.55975180e-04 2.20039269e-04 1.11293466e-03 0.00000000e+00\n",
      " 0.00000000e+00 1.02222231e-04 8.69803138e-06 0.00000000e+00\n",
      " 0.00000000e+00 2.12967247e-03 0.00000000e+00 1.23792893e-03\n",
      " 0.00000000e+00 0.00000000e+00 0.00000000e+00 0.00000000e+00\n",
      " 0.00000000e+00 0.00000000e+00 5.39186956e-03 0.00000000e+00\n",
      " 4.44323452e-05 0.00000000e+00 0.00000000e+00 0.00000000e+00\n",
      " 0.00000000e+00 0.00000000e+00 1.92888989e-04 0.00000000e+00\n",
      " 1.50506777e-03 0.00000000e+00 0.00000000e+00 0.00000000e+00\n",
      " 0.00000000e+00 0.00000000e+00 0.00000000e+00 1.42826999e-02\n",
      " 0.00000000e+00 0.00000000e+00 1.58499506e-03 0.00000000e+00\n",
      " 0.00000000e+00 0.00000000e+00 0.00000000e+00 0.00000000e+00\n",
      " 7.76509440e-03 0.00000000e+00 2.56600200e-04 2.70782120e-03\n",
      " 4.66529821e-03 3.85450881e-04 2.10251376e-04 0.00000000e+00\n",
      " 3.27673948e-03 8.84971546e-04 2.12775916e-04 9.67989919e-03\n",
      " 0.00000000e+00 0.00000000e+00 0.00000000e+00 0.00000000e+00\n",
      " 0.00000000e+00 0.00000000e+00 0.00000000e+00 0.00000000e+00\n",
      " 0.00000000e+00 0.00000000e+00 0.00000000e+00 1.66340501e-02\n",
      " 0.00000000e+00 0.00000000e+00 0.00000000e+00 0.00000000e+00\n",
      " 0.00000000e+00 0.00000000e+00 2.49648342e-03 2.86364060e-05\n",
      " 0.00000000e+00 2.89210109e-04 2.44996083e-04 0.00000000e+00\n",
      " 0.00000000e+00 2.53681596e-03 1.95558557e-04 0.00000000e+00\n",
      " 0.00000000e+00 0.00000000e+00 0.00000000e+00 0.00000000e+00\n",
      " 6.98252532e-05 3.30781990e-05 6.63798716e-03 0.00000000e+00\n",
      " 1.73616979e-04 0.00000000e+00 3.67884859e-04 0.00000000e+00\n",
      " 0.00000000e+00 0.00000000e+00 0.00000000e+00 0.00000000e+00\n",
      " 0.00000000e+00 0.00000000e+00 2.61159645e-03 2.69211467e-04\n",
      " 4.48726081e-06 2.17902410e-03 0.00000000e+00 0.00000000e+00\n",
      " 0.00000000e+00 4.18406731e-03 0.00000000e+00 0.00000000e+00\n",
      " 0.00000000e+00 0.00000000e+00 0.00000000e+00 0.00000000e+00\n",
      " 6.20600261e-03 5.63474049e-04 0.00000000e+00 0.00000000e+00\n",
      " 0.00000000e+00 0.00000000e+00 7.72602500e-05 0.00000000e+00\n",
      " 0.00000000e+00 4.22449311e-05 0.00000000e+00 0.00000000e+00\n",
      " 0.00000000e+00 0.00000000e+00 0.00000000e+00 0.00000000e+00\n",
      " 0.00000000e+00 0.00000000e+00 0.00000000e+00 1.09584741e-04\n",
      " 1.51699727e-05 0.00000000e+00 0.00000000e+00 9.61388627e-06\n",
      " 0.00000000e+00 0.00000000e+00 0.00000000e+00 0.00000000e+00\n",
      " 0.00000000e+00 0.00000000e+00 0.00000000e+00 0.00000000e+00\n",
      " 6.88322959e-06 0.00000000e+00 8.32654017e-05 0.00000000e+00\n",
      " 0.00000000e+00 0.00000000e+00 0.00000000e+00 0.00000000e+00\n",
      " 0.00000000e+00 4.10731944e-04 0.00000000e+00 3.25548454e-03\n",
      " 0.00000000e+00 0.00000000e+00 0.00000000e+00 6.70236012e-05\n",
      " 0.00000000e+00 0.00000000e+00 0.00000000e+00 1.13183896e-03\n",
      " 1.66551405e-05 0.00000000e+00 0.00000000e+00 8.36401304e-05\n",
      " 0.00000000e+00 3.70014885e-04 0.00000000e+00 3.41716723e-05\n",
      " 0.00000000e+00 0.00000000e+00 0.00000000e+00 0.00000000e+00\n",
      " 0.00000000e+00 0.00000000e+00 2.84343271e-04 0.00000000e+00\n",
      " 1.32338386e-06 0.00000000e+00 0.00000000e+00 1.90951132e-05\n",
      " 0.00000000e+00 0.00000000e+00 0.00000000e+00 6.35479699e-06\n",
      " 1.97621011e-05 0.00000000e+00 1.21147623e-04 0.00000000e+00\n",
      " 0.00000000e+00 0.00000000e+00 0.00000000e+00 2.05968998e-06\n",
      " 0.00000000e+00 2.81413154e-04 0.00000000e+00 0.00000000e+00\n",
      " 0.00000000e+00 0.00000000e+00 0.00000000e+00 0.00000000e+00\n",
      " 1.19769671e-04 0.00000000e+00 0.00000000e+00 0.00000000e+00\n",
      " 0.00000000e+00 4.38135149e-05 0.00000000e+00 0.00000000e+00\n",
      " 0.00000000e+00 1.48165097e-04 7.42056916e-04 0.00000000e+00\n",
      " 0.00000000e+00 0.00000000e+00 0.00000000e+00 0.00000000e+00\n",
      " 0.00000000e+00 0.00000000e+00 0.00000000e+00 0.00000000e+00\n",
      " 0.00000000e+00 6.23468142e-05 0.00000000e+00 0.00000000e+00\n",
      " 0.00000000e+00 0.00000000e+00 0.00000000e+00 0.00000000e+00\n",
      " 0.00000000e+00 0.00000000e+00 0.00000000e+00 0.00000000e+00\n",
      " 2.13264576e-06 0.00000000e+00 0.00000000e+00 6.62379412e-05\n",
      " 0.00000000e+00 0.00000000e+00 0.00000000e+00 5.87326243e-05\n",
      " 3.72479681e-04 0.00000000e+00 0.00000000e+00 0.00000000e+00\n",
      " 1.42115469e-04 2.12213219e-05 0.00000000e+00 0.00000000e+00\n",
      " 0.00000000e+00 0.00000000e+00 2.53408435e-04 0.00000000e+00\n",
      " 0.00000000e+00 0.00000000e+00 0.00000000e+00 0.00000000e+00\n",
      " 0.00000000e+00 7.04971731e-04 0.00000000e+00 0.00000000e+00\n",
      " 0.00000000e+00 0.00000000e+00 0.00000000e+00 0.00000000e+00\n",
      " 0.00000000e+00 0.00000000e+00 0.00000000e+00 0.00000000e+00\n",
      " 0.00000000e+00 1.37027990e-05 0.00000000e+00 0.00000000e+00\n",
      " 0.00000000e+00 1.91811364e-06 0.00000000e+00 0.00000000e+00\n",
      " 0.00000000e+00 0.00000000e+00 0.00000000e+00 0.00000000e+00\n",
      " 0.00000000e+00 0.00000000e+00 0.00000000e+00 0.00000000e+00\n",
      " 0.00000000e+00 1.08835854e-03 0.00000000e+00 0.00000000e+00\n",
      " 0.00000000e+00 0.00000000e+00 0.00000000e+00 1.88789379e-04\n",
      " 0.00000000e+00 0.00000000e+00 0.00000000e+00 0.00000000e+00\n",
      " 0.00000000e+00 0.00000000e+00 0.00000000e+00 0.00000000e+00\n",
      " 0.00000000e+00 0.00000000e+00 1.31676078e-04 0.00000000e+00\n",
      " 0.00000000e+00 0.00000000e+00 0.00000000e+00 0.00000000e+00\n",
      " 0.00000000e+00 0.00000000e+00 0.00000000e+00 0.00000000e+00\n",
      " 0.00000000e+00 0.00000000e+00 0.00000000e+00 0.00000000e+00\n",
      " 0.00000000e+00 0.00000000e+00 0.00000000e+00 0.00000000e+00\n",
      " 0.00000000e+00 0.00000000e+00 0.00000000e+00 0.00000000e+00\n",
      " 0.00000000e+00 0.00000000e+00 0.00000000e+00 0.00000000e+00\n",
      " 0.00000000e+00 0.00000000e+00 1.10833599e-05 0.00000000e+00\n",
      " 0.00000000e+00 0.00000000e+00 0.00000000e+00 0.00000000e+00\n",
      " 2.13786852e-05 1.09139428e-06 0.00000000e+00 0.00000000e+00\n",
      " 0.00000000e+00 0.00000000e+00 7.01548872e-08 7.11634174e-06\n",
      " 0.00000000e+00 0.00000000e+00 0.00000000e+00 0.00000000e+00\n",
      " 0.00000000e+00 0.00000000e+00 0.00000000e+00 6.61396743e-05\n",
      " 0.00000000e+00 0.00000000e+00 0.00000000e+00 5.35920328e-06\n",
      " 0.00000000e+00 0.00000000e+00 0.00000000e+00 0.00000000e+00\n",
      " 0.00000000e+00 0.00000000e+00 0.00000000e+00 0.00000000e+00\n",
      " 1.69481391e-04 0.00000000e+00 0.00000000e+00 0.00000000e+00\n",
      " 0.00000000e+00 0.00000000e+00 0.00000000e+00 0.00000000e+00\n",
      " 0.00000000e+00 0.00000000e+00 0.00000000e+00 0.00000000e+00\n",
      " 0.00000000e+00 0.00000000e+00 0.00000000e+00 0.00000000e+00\n",
      " 0.00000000e+00 0.00000000e+00 4.82512935e-06 0.00000000e+00\n",
      " 0.00000000e+00 0.00000000e+00 0.00000000e+00 2.69765173e-06\n",
      " 0.00000000e+00 0.00000000e+00 3.07730221e-04 0.00000000e+00\n",
      " 0.00000000e+00 0.00000000e+00 0.00000000e+00 0.00000000e+00\n",
      " 7.56891092e-05 0.00000000e+00 0.00000000e+00 0.00000000e+00\n",
      " 0.00000000e+00 0.00000000e+00 0.00000000e+00 1.52923283e-04\n",
      " 0.00000000e+00 0.00000000e+00 1.23104385e-04 0.00000000e+00\n",
      " 1.59452559e-06 0.00000000e+00 0.00000000e+00 2.68710140e-05\n",
      " 0.00000000e+00 0.00000000e+00 0.00000000e+00 0.00000000e+00\n",
      " 0.00000000e+00 0.00000000e+00 0.00000000e+00 0.00000000e+00\n",
      " 0.00000000e+00 0.00000000e+00 0.00000000e+00 0.00000000e+00\n",
      " 0.00000000e+00 0.00000000e+00 0.00000000e+00]\n"
     ]
    }
   ],
   "source": [
    "# Veamos los valores de Pi\n",
    "plt.plot(Pi)\n",
    "plt.xlabel(\"Tipo (Indice del tipo en el diccionario)\")\n",
    "plt.ylabel(\"Probabilidad inicial\")\n",
    "plt.title(\"Vector Pi de probabilidades iniciales\")\n",
    "plt.show()\n",
    "\n",
    "print(Pi)"
   ]
  },
  {
   "cell_type": "markdown",
   "metadata": {},
   "source": [
    "## 6. Evaluar el modelo (con Entropía)."
   ]
  },
  {
   "cell_type": "code",
   "execution_count": 113,
   "metadata": {
    "scrolled": false
   },
   "outputs": [
    {
     "name": "stdout",
     "output_type": "stream",
     "text": [
      "### Linea  0  ###\n",
      "['pues', 'asi', 'fue', 'mi', 'pasion']\n",
      "[69, 40, 298, 69, 40, 369, 34, 25, 124, 90]\n",
      "[(24, 49), (49, 63), (63, 40), (40, 5)]\n",
      "\n",
      "Palabras predecidas\n",
      "pues  ->  van\n",
      "asi  ->  pues\n",
      "fue  ->  <EOS>\n",
      "mi  ->  <UNK>\n",
      "<UNK>  ->  <EOS>\n",
      "\n",
      "\n",
      "### Linea  100  ###\n",
      "['entonc', 'cuand', 'lo', 'hab', 'ido', 'a', 'tra', 'lueg', 'este', 'hij', 'ya', 'no', 'te', 'veng', 'ahor', 'ya', 'te', 'qued', 'en', 'tu', 'cas']\n",
      "[69, 40, 298, 69, 40, 369, 34, 25, 124, 90]\n",
      "[(32, 17), (17, 47), (47, 149), (149, 186), (186, 8), (8, 333), (333, 86), (86, 106), (106, 87), (87, 112), (112, 34), (34, 35), (35, 5), (5, 243), (243, 112), (112, 35), (35, 89), (89, 21), (21, 10), (10, 90)]\n",
      "\n",
      "Palabras predecidas\n",
      "entonc  ->  <EOS>\n",
      "cuand  ->  se\n",
      "lo  ->  que\n",
      "hab  ->  que\n",
      "ido  ->  a\n",
      "a  ->  compr\n",
      "tra  ->  una\n",
      "lueg  ->  <EOS>\n",
      "este  ->  <UNK>\n",
      "hij  ->  no\n",
      "ya  ->  troz\n",
      "no  ->  tien\n",
      "te  ->  compr\n",
      "<UNK>  ->  <EOS>\n",
      "ahor  ->  nomas\n",
      "ya  ->  troz\n",
      "te  ->  compr\n",
      "qued  ->  pues\n",
      "en  ->  tod\n",
      "tu  ->  abuel\n",
      "cas  ->  <EOS>\n",
      "\n",
      "\n",
      "### Linea  200  ###\n",
      "['no', 'le', 'cre', 'te', 'engañ']\n",
      "[69, 40, 298, 69, 40, 369, 34, 25, 124, 90]\n",
      "[(34, 2), (2, 5), (5, 35), (35, 5)]\n",
      "\n",
      "Palabras predecidas\n",
      "no  ->  tien\n",
      "le  ->  habl\n",
      "<UNK>  ->  <EOS>\n",
      "te  ->  compr\n",
      "<UNK>  ->  <EOS>\n",
      "\n",
      "\n",
      "### Linea  300  ###\n",
      "['hast', 'que', 'le', 'aplast', 'la', 'cabez', 'al', 'difunt', 'se', 'mur']\n",
      "[69, 40, 298, 69, 40, 369, 34, 25, 124, 90]\n",
      "[(30, 38), (38, 2), (2, 5), (5, 103), (103, 448), (448, 82), (82, 41), (41, 1), (1, 370)]\n",
      "\n",
      "Palabras predecidas\n",
      "hast  ->  se\n",
      "que  ->  no\n",
      "le  ->  habl\n",
      "<UNK>  ->  <EOS>\n",
      "la  ->  cas\n",
      "cabez  ->  <EOS>\n",
      "al  ->  agu\n",
      "difunt  ->  <EOS>\n",
      "se  ->  fueron\n",
      "mur  ->  <EOS>\n",
      "\n",
      "\n",
      "Entropia del modelo evaluado:  39.15966062827638\n"
     ]
    }
   ],
   "source": [
    "entropy_phrase = 0\n",
    "cont = 0\n",
    "\n",
    "for line in eval_corpus:\n",
    "    # Obtenemos los indices de las palabras de evaluacion\n",
    "    # Las palabras que no esten en el diccionario  las trataremos como UNK\n",
    "    ids_tmp = []\n",
    "    for word in line:\n",
    "        ids_tmp.append(dic_wk_train.get(word, dic_wk_train.get(UNK)))\n",
    "    \n",
    "    # Obtenemos los bigramas de esta sentencia\n",
    "    bigrams_tmp = []\n",
    "    bigrams_tmp = list(zip(ids_tmp, ids_tmp[1:]))\n",
    "    \n",
    "    # Obtenemos la entropia de la frase\n",
    "    entropy_phrase += modelo.entropy_phrase(bigrams_tmp)\n",
    "    \n",
    "    if (cont%100) == 0:\n",
    "        print(\"### Linea \", cont+0, \" ###\")\n",
    "        print(line)\n",
    "        print(idx_tmp)\n",
    "        print(bigrams_tmp)\n",
    "        print(\"\\nPalabras predecidas\")\n",
    "        predicts = []\n",
    "        for idx in ids_tmp:\n",
    "            predict = dic_kw_train[modelo.predict(idx)]\n",
    "            current = dic_kw_train[idx]\n",
    "            print(current, \" -> \", predict)\n",
    "        print(\"\\n\")\n",
    "        \n",
    "    cont+=1\n",
    "\n",
    "entropy_phrase /= len(eval_corpus)\n",
    "print(\"Entropia del modelo evaluado: \", entropy_phrase)"
   ]
  },
  {
   "cell_type": "code",
   "execution_count": 123,
   "metadata": {},
   "outputs": [
    {
     "name": "stdout",
     "output_type": "stream",
     "text": [
      "###  ###\n",
      "\n",
      "Linea inicial\n",
      "['pues', 'asi', 'fue', 'mi', 'pasion']\n",
      "[69, 40, 298, 69, 40, 369, 34, 25, 124, 90]\n",
      "[(69, 40), (40, 298), (298, 69), (69, 40), (40, 369), (369, 34), (34, 25), (25, 124), (124, 90)]\n",
      "\n",
      "Texto generado (10 palabras a partir de una inicial)\n",
      "['pues', 'van', 'a', 'compr', 'ya', 'troz', 'nomas', '<EOS>']\n",
      "\n",
      "\n",
      "###  ###\n",
      "\n",
      "Linea inicial\n",
      "['tal', 'vez', 'lo', 'hub', 'mord', 'el', 'animalit', 'de', 'dios']\n",
      "[69, 40, 298, 69, 40, 369, 34, 25, 124, 90]\n",
      "[(69, 40), (40, 298), (298, 69), (69, 40), (40, 369), (369, 34), (34, 25), (25, 124), (124, 90)]\n",
      "\n",
      "Texto generado (10 palabras a partir de una inicial)\n",
      "['tal', 'vez', '<EOS>']\n",
      "\n",
      "\n",
      "###  ###\n",
      "\n",
      "Linea inicial\n",
      "['ten', 'un', 'pedaz', 'per', 'pues', 'hab', 'ido', 'a', 'trabaj', 'y', 'nos', 'lo', 'han', 'quit']\n",
      "[69, 40, 298, 69, 40, 369, 34, 25, 124, 90]\n",
      "[(69, 40), (40, 298), (298, 69), (69, 40), (40, 369), (369, 34), (34, 25), (25, 124), (124, 90)]\n",
      "\n",
      "Texto generado (10 palabras a partir de una inicial)\n",
      "['ten', 'dos', '<EOS>']\n",
      "\n",
      "\n",
      "###  ###\n",
      "\n",
      "Linea inicial\n",
      "['me', 'dic', 'este', 'per', 'me', 'dij', 'que', 'le', 'met', 'el', 'abon']\n",
      "[69, 40, 298, 69, 40, 369, 34, 25, 124, 90]\n",
      "[(69, 40), (40, 298), (298, 69), (69, 40), (40, 369), (369, 34), (34, 25), (25, 124), (124, 90)]\n",
      "\n",
      "Texto generado (10 palabras a partir de una inicial)\n",
      "['me', 'lo', 'que', 'no', 'tien', 'canter', 'pues', 'van', 'a', 'compr', 'ya', 'troz', 'nomas', '<EOS>']\n",
      "\n",
      "\n",
      "###  ###\n",
      "\n",
      "Linea inicial\n",
      "['parec', 'que', 'lo', 'fue', 'a', 'escog', 'a', 'el', 'nomas']\n",
      "[69, 40, 298, 69, 40, 369, 34, 25, 124, 90]\n",
      "[(69, 40), (40, 298), (298, 69), (69, 40), (40, 369), (369, 34), (34, 25), (25, 124), (124, 90)]\n",
      "\n",
      "Texto generado (10 palabras a partir de una inicial)\n",
      "['parec', 'que', 'no', 'tien', 'canter', 'pues', 'van', 'a', 'compr', 'ya', 'troz', 'nomas', '<EOS>']\n",
      "\n",
      "\n"
     ]
    }
   ],
   "source": [
    "# Generemos alguno de texto con una frase introducidad\n",
    "\n",
    "for line in eval_corpus[:5]:\n",
    "    # Obtenemos los indices de las palabras de evaluacion\n",
    "    # Las palabras que no esten en el diccionario  las trataremos como UNK\n",
    "    ids_tmp = []\n",
    "    for word in line:\n",
    "        ids_tmp.append(dic_wk_train.get(word, dic_wk_train.get(UNK)))\n",
    "    \n",
    "    print(\"###  ###\")\n",
    "    print(\"\\nLinea inicial\")\n",
    "    print(line)\n",
    "    print(idx_tmp)\n",
    "    print(bigrams_tmp)\n",
    "    # Tomamos la palabra inicial de esta linea y obtenemos las siguientes 10\n",
    "    print(\"\\nTexto generado (10 palabras a partir de una inicial)\")\n",
    "    current = ids_tmp[0]\n",
    "    predicts = []\n",
    "    predicts.append(line[0])\n",
    "    for idx in range(0,100):\n",
    "        next_w = modelo.predict(current)\n",
    "        predicts.append(dic_kw_train[next_w])\n",
    "        current = next_w\n",
    "        if current == dic_wk_train[EOS]:\n",
    "            break\n",
    "    print(predicts)\n",
    "    print(\"\\n\")"
   ]
  },
  {
   "cell_type": "markdown",
   "metadata": {},
   "source": [
    "## 7. Calcular la probabilidad de las siguientes oraciones:\n",
    "   - Nos bañamos con agua caliente\n",
    "   - El animalito le olía la cabeza\n",
    "   - Pascuala ordeñaba las vacas"
   ]
  },
  {
   "cell_type": "code",
   "execution_count": null,
   "metadata": {},
   "outputs": [],
   "source": [
    "# Definamos funcion que calcula la probabilidad de una frase\n",
    "# Tomamos como apoyo las matrices A y PI\n",
    "\n",
    "def prob_phrase(bigrams, A, Pi):\n",
    "    prob = Pi[bigrams[0][0]]\n",
    "    return prob"
   ]
  }
 ],
 "metadata": {
  "kernelspec": {
   "display_name": "Python 3",
   "language": "python",
   "name": "python3"
  },
  "language_info": {
   "codemirror_mode": {
    "name": "ipython",
    "version": 3
   },
   "file_extension": ".py",
   "mimetype": "text/x-python",
   "name": "python",
   "nbconvert_exporter": "python",
   "pygments_lexer": "ipython3",
   "version": "3.7.4"
  }
 },
 "nbformat": 4,
 "nbformat_minor": 2
}
